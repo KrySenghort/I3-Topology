{
 "cells": [
  {
   "cell_type": "markdown",
   "id": "0a84eeeb",
   "metadata": {},
   "source": [
    "## Matrix Properties\n"
   ]
  },
  {
   "cell_type": "code",
   "execution_count": 174,
   "id": "1d0161a8",
   "metadata": {
    "scrolled": true
   },
   "outputs": [
    {
     "data": {
      "text/plain": [
       "array([[1, 2],\n",
       "       [3, 4]])"
      ]
     },
     "execution_count": 174,
     "metadata": {},
     "output_type": "execute_result"
    }
   ],
   "source": [
    "# Frobenius Norm \n",
    "import numpy as np\n",
    "x = np.array([[1,2],[3,4]])\n",
    "x"
   ]
  },
  {
   "cell_type": "code",
   "execution_count": 175,
   "id": "26a2e90c",
   "metadata": {},
   "outputs": [
    {
     "data": {
      "text/plain": [
       "5.477225575051661"
      ]
     },
     "execution_count": 175,
     "metadata": {},
     "output_type": "execute_result"
    }
   ],
   "source": [
    "(1**2 + 2**2 + 3**2 + 4**2)**(1/2)"
   ]
  },
  {
   "cell_type": "code",
   "execution_count": 176,
   "id": "b7248e87",
   "metadata": {},
   "outputs": [
    {
     "data": {
      "text/plain": [
       "5.477225575051661"
      ]
     },
     "execution_count": 176,
     "metadata": {},
     "output_type": "execute_result"
    }
   ],
   "source": [
    "np.linalg.norm(x) # same function as for vector L2 norm"
   ]
  },
  {
   "cell_type": "code",
   "execution_count": 177,
   "id": "3629b663",
   "metadata": {},
   "outputs": [
    {
     "data": {
      "text/plain": [
       "tensor(5.4772)"
      ]
     },
     "execution_count": 177,
     "metadata": {},
     "output_type": "execute_result"
    }
   ],
   "source": [
    "import torch\n",
    "x_pt = torch.tensor([[1,2], [3,4.]]) # torch.norm() support floats only\n",
    "torch.norm(x_pt)"
   ]
  },
  {
   "cell_type": "code",
   "execution_count": 178,
   "id": "f639ca2d",
   "metadata": {},
   "outputs": [
    {
     "data": {
      "text/plain": [
       "array([[3, 4],\n",
       "       [5, 6],\n",
       "       [7, 8]])"
      ]
     },
     "execution_count": 178,
     "metadata": {},
     "output_type": "execute_result"
    }
   ],
   "source": [
    "# Matrix Multiplication (with a Vector)\n",
    "A = np.array([[3,4], [5,6], [7,8]])\n",
    "A"
   ]
  },
  {
   "cell_type": "code",
   "execution_count": 179,
   "id": "7c5efa20",
   "metadata": {},
   "outputs": [],
   "source": [
    "b = np.array([1,2])"
   ]
  },
  {
   "cell_type": "code",
   "execution_count": 180,
   "id": "aa5e95d2",
   "metadata": {},
   "outputs": [
    {
     "data": {
      "text/plain": [
       "array([11, 17, 23])"
      ]
     },
     "execution_count": 180,
     "metadata": {},
     "output_type": "execute_result"
    }
   ],
   "source": [
    "np.dot(A,b) # even though technically dot products are between vectors only"
   ]
  },
  {
   "cell_type": "code",
   "execution_count": 181,
   "id": "761e3215",
   "metadata": {},
   "outputs": [
    {
     "data": {
      "text/plain": [
       "tensor([[3, 4],\n",
       "        [5, 6],\n",
       "        [7, 8]])"
      ]
     },
     "execution_count": 181,
     "metadata": {},
     "output_type": "execute_result"
    }
   ],
   "source": [
    "A_pt = torch.tensor([[3,4], [5,6], [7,8]])\n",
    "A_pt"
   ]
  },
  {
   "cell_type": "code",
   "execution_count": 182,
   "id": "98846c62",
   "metadata": {},
   "outputs": [
    {
     "data": {
      "text/plain": [
       "tensor([1, 2])"
      ]
     },
     "execution_count": 182,
     "metadata": {},
     "output_type": "execute_result"
    }
   ],
   "source": [
    "b_pt = torch.tensor([1,2])\n",
    "b_pt\n"
   ]
  },
  {
   "cell_type": "code",
   "execution_count": 183,
   "id": "98b25343",
   "metadata": {},
   "outputs": [
    {
     "data": {
      "text/plain": [
       "tensor([11, 17, 23])"
      ]
     },
     "execution_count": 183,
     "metadata": {},
     "output_type": "execute_result"
    }
   ],
   "source": [
    "torch.matmul(A_pt, b_pt) # like np.dot(), automatically infers dims in \n",
    "# in order to perform dot product, matvec, or matrix multiplication"
   ]
  },
  {
   "cell_type": "code",
   "execution_count": 184,
   "id": "e941882e",
   "metadata": {},
   "outputs": [
    {
     "data": {
      "text/plain": [
       "array([[3, 4],\n",
       "       [5, 6],\n",
       "       [7, 8]])"
      ]
     },
     "execution_count": 184,
     "metadata": {},
     "output_type": "execute_result"
    }
   ],
   "source": [
    "# Matrix Multiplication (with Two Matrices)\n",
    "A"
   ]
  },
  {
   "cell_type": "code",
   "execution_count": 185,
   "id": "a341d2ed",
   "metadata": {},
   "outputs": [
    {
     "data": {
      "text/plain": [
       "array([[1, 9],\n",
       "       [2, 0]])"
      ]
     },
     "execution_count": 185,
     "metadata": {},
     "output_type": "execute_result"
    }
   ],
   "source": [
    "B = np.array([[1,9], [2,0]])\n",
    "B"
   ]
  },
  {
   "cell_type": "code",
   "execution_count": 186,
   "id": "a49cead2",
   "metadata": {},
   "outputs": [
    {
     "data": {
      "text/plain": [
       "array([[11, 27],\n",
       "       [17, 45],\n",
       "       [23, 63]])"
      ]
     },
     "execution_count": 186,
     "metadata": {},
     "output_type": "execute_result"
    }
   ],
   "source": [
    "np.dot(A,B)"
   ]
  },
  {
   "cell_type": "code",
   "execution_count": 187,
   "id": "4645bdd3",
   "metadata": {},
   "outputs": [
    {
     "data": {
      "text/plain": [
       "tensor([[1, 9],\n",
       "        [2, 0]])"
      ]
     },
     "execution_count": 187,
     "metadata": {},
     "output_type": "execute_result"
    }
   ],
   "source": [
    "# Matric multiplication is not \"commutative\", (i.e AB # BA)\n",
    "# so uncommenting the following line will throw a size mismatch error\n",
    "# np.dot(B, A)\n",
    "B_pt = torch.from_numpy(B) # much cleaner than TF conversion\n",
    "B_pt"
   ]
  },
  {
   "cell_type": "code",
   "execution_count": 188,
   "id": "8700ad8c",
   "metadata": {},
   "outputs": [
    {
     "data": {
      "text/plain": [
       "tensor([[1, 9],\n",
       "        [2, 0]])"
      ]
     },
     "execution_count": 188,
     "metadata": {},
     "output_type": "execute_result"
    }
   ],
   "source": [
    "# another neat way to create the same tensor with transposition:\n",
    "B_pt = torch.tensor([[1,2], [9,0]]).T\n",
    "B_pt"
   ]
  },
  {
   "cell_type": "code",
   "execution_count": 189,
   "id": "043fded2",
   "metadata": {},
   "outputs": [
    {
     "data": {
      "text/plain": [
       "tensor([[11, 27],\n",
       "        [17, 45],\n",
       "        [23, 63]])"
      ]
     },
     "execution_count": 189,
     "metadata": {},
     "output_type": "execute_result"
    }
   ],
   "source": [
    "torch.matmul(A_pt, B_pt) # no need to change functions, unlike in TF"
   ]
  },
  {
   "cell_type": "code",
   "execution_count": 190,
   "id": "5d397f76",
   "metadata": {},
   "outputs": [
    {
     "data": {
      "text/plain": [
       "array([[0, 1, 2],\n",
       "       [1, 7, 8],\n",
       "       [2, 8, 9]])"
      ]
     },
     "execution_count": 190,
     "metadata": {},
     "output_type": "execute_result"
    }
   ],
   "source": [
    "# Symmetric Matrices \n",
    "X_sym = np.array([[0,1,2], [1,7,8], [2,8,9]])\n",
    "X_sym"
   ]
  },
  {
   "cell_type": "code",
   "execution_count": 191,
   "id": "f4fdbf3e",
   "metadata": {},
   "outputs": [
    {
     "data": {
      "text/plain": [
       "array([[ True,  True,  True],\n",
       "       [ True,  True,  True],\n",
       "       [ True,  True,  True]])"
      ]
     },
     "execution_count": 191,
     "metadata": {},
     "output_type": "execute_result"
    }
   ],
   "source": [
    "X_sym.T == X_sym"
   ]
  },
  {
   "cell_type": "code",
   "execution_count": 192,
   "id": "d94b74e7",
   "metadata": {},
   "outputs": [
    {
     "data": {
      "text/plain": [
       "tensor([[1, 0, 0],\n",
       "        [0, 1, 0],\n",
       "        [0, 0, 1]])"
      ]
     },
     "execution_count": 192,
     "metadata": {},
     "output_type": "execute_result"
    }
   ],
   "source": [
    "# Identity Matrices\n",
    "I = torch.tensor([[1,0,0], [0,1,0], [0,0,1]])\n",
    "I"
   ]
  },
  {
   "cell_type": "code",
   "execution_count": 193,
   "id": "86d84b8d",
   "metadata": {},
   "outputs": [
    {
     "data": {
      "text/plain": [
       "tensor([25,  2,  5])"
      ]
     },
     "execution_count": 193,
     "metadata": {},
     "output_type": "execute_result"
    }
   ],
   "source": [
    "x_pt= torch.tensor([25, 2, 5])\n",
    "x_pt"
   ]
  },
  {
   "cell_type": "code",
   "execution_count": 194,
   "id": "b2700a0a",
   "metadata": {},
   "outputs": [
    {
     "data": {
      "text/plain": [
       "tensor([25,  2,  5])"
      ]
     },
     "execution_count": 194,
     "metadata": {},
     "output_type": "execute_result"
    }
   ],
   "source": [
    "torch.matmul(I, x_pt)"
   ]
  },
  {
   "cell_type": "code",
   "execution_count": 195,
   "id": "e2b568fb",
   "metadata": {},
   "outputs": [
    {
     "data": {
      "text/plain": [
       "tensor([[0, 1, 2],\n",
       "        [3, 4, 5],\n",
       "        [6, 7, 8]])"
      ]
     },
     "execution_count": 195,
     "metadata": {},
     "output_type": "execute_result"
    }
   ],
   "source": [
    "# Answers to Matrix Multiplication Qs\n",
    "M_q = torch.tensor([[0, 1, 2], [3,4,5], [6,7, 8]])\n",
    "M_q"
   ]
  },
  {
   "cell_type": "code",
   "execution_count": 196,
   "id": "664e9a55",
   "metadata": {},
   "outputs": [
    {
     "data": {
      "text/plain": [
       "tensor([[-1,  0],\n",
       "        [ 1,  1],\n",
       "        [-2,  2]])"
      ]
     },
     "execution_count": 196,
     "metadata": {},
     "output_type": "execute_result"
    }
   ],
   "source": [
    "V_q = torch.tensor([[-1,1,-2], [0,1,2]]).T\n",
    "V_q"
   ]
  },
  {
   "cell_type": "code",
   "execution_count": 197,
   "id": "1a60787c",
   "metadata": {},
   "outputs": [
    {
     "data": {
      "text/plain": [
       "tensor([[ -3,   5],\n",
       "        [ -9,  14],\n",
       "        [-15,  23]])"
      ]
     },
     "execution_count": 197,
     "metadata": {},
     "output_type": "execute_result"
    }
   ],
   "source": [
    "torch.matmul(M_q, V_q)"
   ]
  },
  {
   "cell_type": "code",
   "execution_count": 198,
   "id": "044cd7b6",
   "metadata": {},
   "outputs": [
    {
     "data": {
      "text/plain": [
       "array([[ 4,  2],\n",
       "       [-5, -3]])"
      ]
     },
     "execution_count": 198,
     "metadata": {},
     "output_type": "execute_result"
    }
   ],
   "source": [
    "# Matrix Inversion\n",
    "X = np.array([[4,2], [-5,-3]])\n",
    "X"
   ]
  },
  {
   "cell_type": "code",
   "execution_count": 199,
   "id": "3c37aa60",
   "metadata": {},
   "outputs": [
    {
     "data": {
      "text/plain": [
       "array([[ 1.5,  1. ],\n",
       "       [-2.5, -2. ]])"
      ]
     },
     "execution_count": 199,
     "metadata": {},
     "output_type": "execute_result"
    }
   ],
   "source": [
    "Xinv = np.linalg.inv(X)\n",
    "Xinv"
   ]
  },
  {
   "cell_type": "code",
   "execution_count": 200,
   "id": "d535d6f3",
   "metadata": {},
   "outputs": [
    {
     "data": {
      "text/plain": [
       "array([[1., 0.],\n",
       "       [0., 1.]])"
      ]
     },
     "execution_count": 200,
     "metadata": {},
     "output_type": "execute_result"
    }
   ],
   "source": [
    "# As a quick side, let's prove that X^-1 X = I_n as per the slides:\n",
    "np.dot(Xinv,X)"
   ]
  },
  {
   "cell_type": "code",
   "execution_count": 201,
   "id": "5a70941f",
   "metadata": {},
   "outputs": [
    {
     "data": {
      "text/plain": [
       "array([ 4, -7])"
      ]
     },
     "execution_count": 201,
     "metadata": {},
     "output_type": "execute_result"
    }
   ],
   "source": [
    "# and now back to solving for the unknown in w:\n",
    "y = np.array([4,-7])\n",
    "y"
   ]
  },
  {
   "cell_type": "code",
   "execution_count": 202,
   "id": "afe1c85e",
   "metadata": {},
   "outputs": [
    {
     "data": {
      "text/plain": [
       "array([-1.,  4.])"
      ]
     },
     "execution_count": 202,
     "metadata": {},
     "output_type": "execute_result"
    }
   ],
   "source": [
    "w = np.dot(Xinv, y)\n",
    "w"
   ]
  },
  {
   "cell_type": "code",
   "execution_count": 203,
   "id": "51476aae",
   "metadata": {},
   "outputs": [
    {
     "data": {
      "text/plain": [
       "array([ 4., -7.])"
      ]
     },
     "execution_count": 203,
     "metadata": {},
     "output_type": "execute_result"
    }
   ],
   "source": [
    "# Show that y = Xw\n",
    "np.dot(X,w)"
   ]
  },
  {
   "cell_type": "code",
   "execution_count": 204,
   "id": "76d204de",
   "metadata": {},
   "outputs": [],
   "source": [
    "# Geometric Visualization \n",
    "# Recall 4b +2c = 4, -5b -3c = -7 , c1 = 2- 2b, c2 = (7-5b)/3\n",
    "b = np.linspace(-10, 10, 1000) # start, finish, n points "
   ]
  },
  {
   "cell_type": "code",
   "execution_count": 205,
   "id": "a913f57a",
   "metadata": {},
   "outputs": [],
   "source": [
    "c1 = 2 - 2*b"
   ]
  },
  {
   "cell_type": "code",
   "execution_count": 206,
   "id": "77cf707a",
   "metadata": {},
   "outputs": [],
   "source": [
    "c2 = (7-5*b)/3"
   ]
  },
  {
   "cell_type": "code",
   "execution_count": 207,
   "id": "37dc431f",
   "metadata": {},
   "outputs": [
    {
     "data": {
      "text/plain": [
       "<matplotlib.lines.Line2D at 0x7fbef8759d30>"
      ]
     },
     "execution_count": 207,
     "metadata": {},
     "output_type": "execute_result"
    },
    {
     "data": {
      "image/png": "[encoded data removed]",
      "text/plain": [
       "<Figure size 400x400 with 1 Axes>"
      ]
     },
     "metadata": {},
     "output_type": "display_data"
    }
   ],
   "source": [
    "import matplotlib.pyplot as plt\n",
    "fig, ax = plt.subplots()\n",
    "\n",
    "plt.xlabel('b', c = 'darkorange')\n",
    "plt.ylabel('c', c = 'brown')\n",
    "\n",
    "plt.axvline(x=0, color= 'lightgray')\n",
    "plt.axhline(y=0, color= 'lightgray')\n",
    "\n",
    "ax.set_xlim([-2, 3])\n",
    "ax.set_ylim([-1, 5])\n",
    "ax.plot(b, c1, c='purple')\n",
    "ax.plot(b, c2, c='purple')\n",
    "ax.axvline(x=-1, color='green', linestyle='--')\n",
    "ax.axhline(y=4, color='green', linestyle='--')"
   ]
  },
  {
   "cell_type": "code",
   "execution_count": 208,
   "id": "0228b9e9",
   "metadata": {},
   "outputs": [
    {
     "data": {
      "text/plain": [
       "tensor([[ 1.5000,  1.0000],\n",
       "        [-2.5000, -2.0000]])"
      ]
     },
     "execution_count": 208,
     "metadata": {},
     "output_type": "execute_result"
    }
   ],
   "source": [
    "# In PyTorch\n",
    "torch.inverse(torch.tensor([[4,2], [-5, -3.]])) # float type"
   ]
  },
  {
   "attachments": {},
   "cell_type": "markdown",
   "id": "5c691a79",
   "metadata": {},
   "source": [
    "Exercise:<br>\n",
    "As done with Numpy above, uee PyTorh to calculate w from X and y.<br>\n",
    "Subsequently, cofirm that y = Xw"
   ]
  },
  {
   "cell_type": "code",
   "execution_count": 210,
   "id": "414448ec",
   "metadata": {},
   "outputs": [
    {
     "data": {
      "text/plain": [
       "array([[-4,  1],\n",
       "       [-8,  2]])"
      ]
     },
     "execution_count": 210,
     "metadata": {},
     "output_type": "execute_result"
    }
   ],
   "source": [
    "# Matrix Inversion Where No Solution\n",
    "X= np.array([[-4, 1], [-8, 2]]) \n",
    "X"
   ]
  },
  {
   "cell_type": "code",
   "execution_count": 175,
   "id": "1c559917",
   "metadata": {},
   "outputs": [
    {
     "ename": "LinAlgError",
     "evalue": "Singular matrix",
     "output_type": "error",
     "traceback": [
      "\u001b[0;31m---------------------------------------------------------------------------\u001b[0m",
      "\u001b[0;31mLinAlgError\u001b[0m                               Traceback (most recent call last)",
      "\u001b[0;32m/var/folders/vb/nb0122bd5lg5w4j7n_3zzb0w0000gn/T/ipykernel_827/4249856026.py\u001b[0m in \u001b[0;36m<module>\u001b[0;34m\u001b[0m\n\u001b[1;32m      1\u001b[0m \u001b[0;31m# Xinv = np.linalg.inv(X) error\u001b[0m\u001b[0;34m\u001b[0m\u001b[0;34m\u001b[0m\u001b[0m\n\u001b[0;32m----> 2\u001b[0;31m \u001b[0mXinv\u001b[0m \u001b[0;34m=\u001b[0m \u001b[0mnp\u001b[0m\u001b[0;34m.\u001b[0m\u001b[0mlinalg\u001b[0m\u001b[0;34m.\u001b[0m\u001b[0minv\u001b[0m\u001b[0;34m(\u001b[0m\u001b[0mX\u001b[0m\u001b[0;34m)\u001b[0m\u001b[0;34m\u001b[0m\u001b[0;34m\u001b[0m\u001b[0m\n\u001b[0m",
      "\u001b[0;32m<__array_function__ internals>\u001b[0m in \u001b[0;36minv\u001b[0;34m(*args, **kwargs)\u001b[0m\n",
      "\u001b[0;32m~/opt/anaconda3/lib/python3.9/site-packages/numpy/linalg/linalg.py\u001b[0m in \u001b[0;36minv\u001b[0;34m(a)\u001b[0m\n\u001b[1;32m    543\u001b[0m     \u001b[0msignature\u001b[0m \u001b[0;34m=\u001b[0m \u001b[0;34m'D->D'\u001b[0m \u001b[0;32mif\u001b[0m \u001b[0misComplexType\u001b[0m\u001b[0;34m(\u001b[0m\u001b[0mt\u001b[0m\u001b[0;34m)\u001b[0m \u001b[0;32melse\u001b[0m \u001b[0;34m'd->d'\u001b[0m\u001b[0;34m\u001b[0m\u001b[0;34m\u001b[0m\u001b[0m\n\u001b[1;32m    544\u001b[0m     \u001b[0mextobj\u001b[0m \u001b[0;34m=\u001b[0m \u001b[0mget_linalg_error_extobj\u001b[0m\u001b[0;34m(\u001b[0m\u001b[0m_raise_linalgerror_singular\u001b[0m\u001b[0;34m)\u001b[0m\u001b[0;34m\u001b[0m\u001b[0;34m\u001b[0m\u001b[0m\n\u001b[0;32m--> 545\u001b[0;31m     \u001b[0mainv\u001b[0m \u001b[0;34m=\u001b[0m \u001b[0m_umath_linalg\u001b[0m\u001b[0;34m.\u001b[0m\u001b[0minv\u001b[0m\u001b[0;34m(\u001b[0m\u001b[0ma\u001b[0m\u001b[0;34m,\u001b[0m \u001b[0msignature\u001b[0m\u001b[0;34m=\u001b[0m\u001b[0msignature\u001b[0m\u001b[0;34m,\u001b[0m \u001b[0mextobj\u001b[0m\u001b[0;34m=\u001b[0m\u001b[0mextobj\u001b[0m\u001b[0;34m)\u001b[0m\u001b[0;34m\u001b[0m\u001b[0;34m\u001b[0m\u001b[0m\n\u001b[0m\u001b[1;32m    546\u001b[0m     \u001b[0;32mreturn\u001b[0m \u001b[0mwrap\u001b[0m\u001b[0;34m(\u001b[0m\u001b[0mainv\u001b[0m\u001b[0;34m.\u001b[0m\u001b[0mastype\u001b[0m\u001b[0;34m(\u001b[0m\u001b[0mresult_t\u001b[0m\u001b[0;34m,\u001b[0m \u001b[0mcopy\u001b[0m\u001b[0;34m=\u001b[0m\u001b[0;32mFalse\u001b[0m\u001b[0;34m)\u001b[0m\u001b[0;34m)\u001b[0m\u001b[0;34m\u001b[0m\u001b[0;34m\u001b[0m\u001b[0m\n\u001b[1;32m    547\u001b[0m \u001b[0;34m\u001b[0m\u001b[0m\n",
      "\u001b[0;32m~/opt/anaconda3/lib/python3.9/site-packages/numpy/linalg/linalg.py\u001b[0m in \u001b[0;36m_raise_linalgerror_singular\u001b[0;34m(err, flag)\u001b[0m\n\u001b[1;32m     86\u001b[0m \u001b[0;34m\u001b[0m\u001b[0m\n\u001b[1;32m     87\u001b[0m \u001b[0;32mdef\u001b[0m \u001b[0m_raise_linalgerror_singular\u001b[0m\u001b[0;34m(\u001b[0m\u001b[0merr\u001b[0m\u001b[0;34m,\u001b[0m \u001b[0mflag\u001b[0m\u001b[0;34m)\u001b[0m\u001b[0;34m:\u001b[0m\u001b[0;34m\u001b[0m\u001b[0;34m\u001b[0m\u001b[0m\n\u001b[0;32m---> 88\u001b[0;31m     \u001b[0;32mraise\u001b[0m \u001b[0mLinAlgError\u001b[0m\u001b[0;34m(\u001b[0m\u001b[0;34m\"Singular matrix\"\u001b[0m\u001b[0;34m)\u001b[0m\u001b[0;34m\u001b[0m\u001b[0;34m\u001b[0m\u001b[0m\n\u001b[0m\u001b[1;32m     89\u001b[0m \u001b[0;34m\u001b[0m\u001b[0m\n\u001b[1;32m     90\u001b[0m \u001b[0;32mdef\u001b[0m \u001b[0m_raise_linalgerror_nonposdef\u001b[0m\u001b[0;34m(\u001b[0m\u001b[0merr\u001b[0m\u001b[0;34m,\u001b[0m \u001b[0mflag\u001b[0m\u001b[0;34m)\u001b[0m\u001b[0;34m:\u001b[0m\u001b[0;34m\u001b[0m\u001b[0;34m\u001b[0m\u001b[0m\n",
      "\u001b[0;31mLinAlgError\u001b[0m: Singular matrix"
     ]
    }
   ],
   "source": [
    "# Xinv = np.linalg.inv(X) error\n",
    "Xinv = np.linalg.inv(X)"
   ]
  },
  {
   "cell_type": "code",
   "execution_count": 211,
   "id": "ff6f27d0",
   "metadata": {},
   "outputs": [
    {
     "data": {
      "text/plain": [
       "array([[1, 0, 0],\n",
       "       [0, 1, 0],\n",
       "       [0, 0, 1]])"
      ]
     },
     "execution_count": 211,
     "metadata": {},
     "output_type": "execute_result"
    }
   ],
   "source": [
    "# Orthogonal Matrices \n",
    "I = np.array([[1,0,0],[0,1,0],[0,0,1]])\n",
    "I"
   ]
  },
  {
   "cell_type": "code",
   "execution_count": 212,
   "id": "dba68760",
   "metadata": {},
   "outputs": [
    {
     "data": {
      "text/plain": [
       "array([1, 0, 0])"
      ]
     },
     "execution_count": 212,
     "metadata": {},
     "output_type": "execute_result"
    }
   ],
   "source": [
    "column_1 = I[:,0]\n",
    "column_1"
   ]
  },
  {
   "cell_type": "code",
   "execution_count": 213,
   "id": "bc1443f1",
   "metadata": {},
   "outputs": [
    {
     "data": {
      "text/plain": [
       "array([0, 1, 0])"
      ]
     },
     "execution_count": 213,
     "metadata": {},
     "output_type": "execute_result"
    }
   ],
   "source": [
    "column_2 = I[:,1]\n",
    "column_2"
   ]
  },
  {
   "cell_type": "code",
   "execution_count": 214,
   "id": "5f28069f",
   "metadata": {},
   "outputs": [
    {
     "data": {
      "text/plain": [
       "array([0, 0, 1])"
      ]
     },
     "execution_count": 214,
     "metadata": {},
     "output_type": "execute_result"
    }
   ],
   "source": [
    "column_3 = I[:,2]\n",
    "column_3\n"
   ]
  },
  {
   "cell_type": "code",
   "execution_count": 215,
   "id": "f45865ff",
   "metadata": {},
   "outputs": [
    {
     "data": {
      "text/plain": [
       "0"
      ]
     },
     "execution_count": 215,
     "metadata": {},
     "output_type": "execute_result"
    }
   ],
   "source": [
    "np.dot(column_1, column_2)"
   ]
  },
  {
   "cell_type": "code",
   "execution_count": 216,
   "id": "08b100bd",
   "metadata": {},
   "outputs": [
    {
     "data": {
      "text/plain": [
       "0"
      ]
     },
     "execution_count": 216,
     "metadata": {},
     "output_type": "execute_result"
    }
   ],
   "source": [
    "np.dot(column_1, column_3)"
   ]
  },
  {
   "cell_type": "code",
   "execution_count": 217,
   "id": "1640ce3a",
   "metadata": {},
   "outputs": [
    {
     "data": {
      "text/plain": [
       "0"
      ]
     },
     "execution_count": 217,
     "metadata": {},
     "output_type": "execute_result"
    }
   ],
   "source": [
    "np.dot(column_2, column_3)"
   ]
  },
  {
   "cell_type": "code",
   "execution_count": 218,
   "id": "a9ebd24e",
   "metadata": {},
   "outputs": [
    {
     "data": {
      "text/plain": [
       "1.0"
      ]
     },
     "execution_count": 218,
     "metadata": {},
     "output_type": "execute_result"
    }
   ],
   "source": [
    "# Use np.linalg.norm() to show I is a unit norm\n",
    "\n",
    "np.linalg.norm(column_1)"
   ]
  },
  {
   "cell_type": "code",
   "execution_count": 219,
   "id": "cf30cc06",
   "metadata": {},
   "outputs": [
    {
     "data": {
      "text/plain": [
       "1.0"
      ]
     },
     "execution_count": 219,
     "metadata": {},
     "output_type": "execute_result"
    }
   ],
   "source": [
    "np.linalg.norm(column_2)"
   ]
  },
  {
   "cell_type": "code",
   "execution_count": 220,
   "id": "b7c08c43",
   "metadata": {},
   "outputs": [
    {
     "data": {
      "text/plain": [
       "1.0"
      ]
     },
     "execution_count": 220,
     "metadata": {},
     "output_type": "execute_result"
    }
   ],
   "source": [
    "np.linalg.norm(column_3)"
   ]
  },
  {
   "cell_type": "code",
   "execution_count": 221,
   "id": "b1a7c4e0",
   "metadata": {},
   "outputs": [
    {
     "data": {
      "text/plain": [
       "tensor([[ 0.6667,  0.3333,  0.6667],\n",
       "        [-0.6667,  0.6667,  0.3333],\n",
       "        [ 0.3333,  0.6667, -0.6667]])"
      ]
     },
     "execution_count": 221,
     "metadata": {},
     "output_type": "execute_result"
    }
   ],
   "source": [
    "K = torch.tensor([[2/3, 1/3, 2/3], [-2/3, 2/3, 1/3], [1/3,2/3,-2/3]])\n",
    "K"
   ]
  },
  {
   "cell_type": "code",
   "execution_count": 222,
   "id": "887be301",
   "metadata": {},
   "outputs": [
    {
     "data": {
      "text/plain": [
       "tensor([ 0.6667, -0.6667,  0.3333])"
      ]
     },
     "execution_count": 222,
     "metadata": {},
     "output_type": "execute_result"
    }
   ],
   "source": [
    "Kcol_1 = K[:, 0]\n",
    "Kcol_1"
   ]
  },
  {
   "cell_type": "code",
   "execution_count": 223,
   "id": "f1deda4c",
   "metadata": {},
   "outputs": [
    {
     "data": {
      "text/plain": [
       "tensor([0.3333, 0.6667, 0.6667])"
      ]
     },
     "execution_count": 223,
     "metadata": {},
     "output_type": "execute_result"
    }
   ],
   "source": [
    "Kcol_2 = K[:, 1]\n",
    "Kcol_2"
   ]
  },
  {
   "cell_type": "code",
   "execution_count": 224,
   "id": "faca8afc",
   "metadata": {},
   "outputs": [
    {
     "data": {
      "text/plain": [
       "tensor([ 0.6667,  0.3333, -0.6667])"
      ]
     },
     "execution_count": 224,
     "metadata": {},
     "output_type": "execute_result"
    }
   ],
   "source": [
    "Kcol_3 = K[:,2]\n",
    "Kcol_3 "
   ]
  },
  {
   "cell_type": "code",
   "execution_count": 225,
   "id": "4402950c",
   "metadata": {},
   "outputs": [
    {
     "data": {
      "text/plain": [
       "tensor(0.)"
      ]
     },
     "execution_count": 225,
     "metadata": {},
     "output_type": "execute_result"
    }
   ],
   "source": [
    "torch.dot(Kcol_1, Kcol_2)"
   ]
  },
  {
   "cell_type": "code",
   "execution_count": 226,
   "id": "e207d9aa",
   "metadata": {},
   "outputs": [
    {
     "data": {
      "text/plain": [
       "tensor(0.)"
      ]
     },
     "execution_count": 226,
     "metadata": {},
     "output_type": "execute_result"
    }
   ],
   "source": [
    "torch.dot(Kcol_2, Kcol_3)"
   ]
  },
  {
   "cell_type": "code",
   "execution_count": 227,
   "id": "9f81ef79",
   "metadata": {},
   "outputs": [
    {
     "data": {
      "text/plain": [
       "tensor(1.)"
      ]
     },
     "execution_count": 227,
     "metadata": {},
     "output_type": "execute_result"
    }
   ],
   "source": [
    "torch.norm(Kcol_2)"
   ]
  },
  {
   "cell_type": "code",
   "execution_count": 228,
   "id": "209186b3",
   "metadata": {},
   "outputs": [
    {
     "data": {
      "text/plain": [
       "tensor(1.)"
      ]
     },
     "execution_count": 228,
     "metadata": {},
     "output_type": "execute_result"
    }
   ],
   "source": [
    "torch.norm(Kcol_2)"
   ]
  },
  {
   "cell_type": "code",
   "execution_count": 229,
   "id": "a42f88cf",
   "metadata": {},
   "outputs": [
    {
     "data": {
      "text/plain": [
       "tensor(1.)"
      ]
     },
     "execution_count": 229,
     "metadata": {},
     "output_type": "execute_result"
    }
   ],
   "source": [
    "torch.norm(Kcol_3)"
   ]
  },
  {
   "cell_type": "code",
   "execution_count": 230,
   "id": "a62a9c56",
   "metadata": {},
   "outputs": [
    {
     "data": {
      "text/plain": [
       "tensor([[ 1.0000e+00, -3.3114e-09,  3.3114e-09],\n",
       "        [-3.3114e-09,  1.0000e+00,  6.6227e-09],\n",
       "        [ 3.3114e-09,  6.6227e-09,  1.0000e+00]])"
      ]
     },
     "execution_count": 230,
     "metadata": {},
     "output_type": "execute_result"
    }
   ],
   "source": [
    "#A^T A = I\n",
    "\n",
    "torch.matmul(K.T, K)\n"
   ]
  },
  {
   "cell_type": "markdown",
   "id": "a552a3f2",
   "metadata": {},
   "source": [
    "## Eigendecomposition"
   ]
  },
  {
   "cell_type": "markdown",
   "id": "72ffbe44",
   "metadata": {},
   "source": [
    "The eigendecomposition is one form of matrix decomposition. Decomposing a matrix means that we want to find a product of matrices that is equal to the initial matrix. In the case of the eigendecomposition, we decompose the initial matrix into the product of its eigenvectors and egenvaluees. Before all, let's see what are eigenvectors and eigenvalues."
   ]
  },
  {
   "cell_type": "code",
   "execution_count": 231,
   "id": "959d1ab2",
   "metadata": {},
   "outputs": [],
   "source": [
    "import numpy as np\n",
    "import matplotlib.pyplot as plt\n",
    "import seaborn as sns"
   ]
  },
  {
   "cell_type": "code",
   "execution_count": 232,
   "id": "32586c8d",
   "metadata": {},
   "outputs": [
    {
     "name": "stdout",
     "output_type": "stream",
     "text": [
      "Populating the interactive namespace from numpy and matplotlib\n"
     ]
    }
   ],
   "source": [
    "# Plot style\n",
    "sns.set()\n",
    "%pylab inline\n",
    "pylab.rcParams['figure.figsize'] = (4, 4)\n",
    "# Avoid inaccurate floating values (for inverse matrices in dot product for instance)\n",
    "# See https://stackoverflow.com/questions/24537791/numpy-matrix-inversion-rounding-errors\n",
    "np.set_printoptions(suppress=True)"
   ]
  },
  {
   "cell_type": "code",
   "execution_count": 233,
   "id": "a8d83a38",
   "metadata": {},
   "outputs": [
    {
     "data": {
      "text/html": [
       "<style>\n",
       ".pquote {\n",
       "  text-align: left;\n",
       "  margin: 40px 0 40px auto;\n",
       "  width: 70%;\n",
       "  font-size: 1.5em;\n",
       "  font-style: italic;\n",
       "  display: block;\n",
       "  line-height: 1.3em;\n",
       "  color: #5a75a7;\n",
       "  font-weight: 600;\n",
       "  border-left: 5px solid rgba(90, 117, 167, .1);\n",
       "  padding-left: 6px;\n",
       "}\n",
       ".notes {\n",
       "  font-style: italic;\n",
       "  display: block;\n",
       "  margin: 40px 10%;\n",
       "}\n",
       "img + em {\n",
       "  text-align: center;\n",
       "  display: block;\n",
       "  color: gray;\n",
       "  font-size: 0.9em;\n",
       "  font-weight: 600;\n",
       "}\n",
       "</style>\n"
      ],
      "text/plain": [
       "<IPython.core.display.HTML object>"
      ]
     },
     "metadata": {},
     "output_type": "display_data"
    }
   ],
   "source": [
    "%%html\n",
    "<style>\n",
    ".pquote {\n",
    "  text-align: left;\n",
    "  margin: 40px 0 40px auto;\n",
    "  width: 70%;\n",
    "  font-size: 1.5em;\n",
    "  font-style: italic;\n",
    "  display: block;\n",
    "  line-height: 1.3em;\n",
    "  color: #5a75a7;\n",
    "  font-weight: 600;\n",
    "  border-left: 5px solid rgba(90, 117, 167, .1);\n",
    "  padding-left: 6px;\n",
    "}\n",
    ".notes {\n",
    "  font-style: italic;\n",
    "  display: block;\n",
    "  margin: 40px 10%;\n",
    "}\n",
    "img + em {\n",
    "  text-align: center;\n",
    "  display: block;\n",
    "  color: gray;\n",
    "  font-size: 0.9em;\n",
    "  font-weight: 600;\n",
    "}\n",
    "</style>"
   ]
  },
  {
   "cell_type": "code",
   "execution_count": 234,
   "id": "a0ec65c3",
   "metadata": {},
   "outputs": [],
   "source": [
    "def plotVectors(vecs, cols, alpha=1):\n",
    "    \"\"\"\n",
    "    Plot set of vectors.\n",
    "\n",
    "    Parameters\n",
    "    ----------\n",
    "    vecs : array-like\n",
    "        Coordinates of the vectors to plot. Each vectors is in an array. For\n",
    "        instance: [[1, 3], [2, 2]] can be used to plot 2 vectors.\n",
    "    cols : array-like\n",
    "        Colors of the vectors. For instance: ['red', 'blue'] will display the\n",
    "        first vector in red and the second in blue.\n",
    "    alpha : float\n",
    "        Opacity of vectors\n",
    "\n",
    "    Returns:\n",
    "\n",
    "    fig : instance of matplotlib.figure.Figure\n",
    "        The figure of the vectors\n",
    "    \"\"\"\n",
    "    plt.axvline(x=0, color='#A9A9A9', zorder=0)\n",
    "    plt.axhline(y=0, color='#A9A9A9', zorder=0)\n",
    "\n",
    "    for i in range(len(vecs)):\n",
    "        if (isinstance(alpha, list)):\n",
    "            alpha_i = alpha[i]\n",
    "        else:\n",
    "            alpha_i = alpha\n",
    "        x = np.concatenate([[0,0],vecs[i]])\n",
    "        plt.quiver([x[0]],\n",
    "                   [x[1]],\n",
    "                   [x[2]],\n",
    "                   [x[3]],\n",
    "                   angles='xy', scale_units='xy', scale=1, color=cols[i],\n",
    "                  alpha=alpha_i)"
   ]
  },
  {
   "cell_type": "markdown",
   "id": "e842b7d2",
   "metadata": {},
   "source": [
    "Let's plot v using plt_vector() function (which is based on Hadrien Jean's plotVectors() function from this notebook, MIT licence)."
   ]
  },
  {
   "cell_type": "code",
   "execution_count": 235,
   "id": "b18844ee",
   "metadata": {},
   "outputs": [
    {
     "data": {
      "text/plain": [
       "array([3, 1])"
      ]
     },
     "execution_count": 235,
     "metadata": {},
     "output_type": "execute_result"
    }
   ],
   "source": [
    "# Affine Transformation via Matrix Application \n",
    "# let's say we have a vector v:\n",
    "v = np.array([3,1])\n",
    "v"
   ]
  },
  {
   "cell_type": "code",
   "execution_count": 236,
   "id": "f9f74bc0",
   "metadata": {},
   "outputs": [
    {
     "data": {
      "text/plain": [
       "(-1.0, 4.0)"
      ]
     },
     "execution_count": 236,
     "metadata": {},
     "output_type": "execute_result"
    },
    {
     "data": {
      "image/png": "[encoded data removed]",
      "text/plain": [
       "<Figure size 400x400 with 1 Axes>"
      ]
     },
     "metadata": {},
     "output_type": "display_data"
    }
   ],
   "source": [
    "plotVectors([v.flatten()], cols = ['lightblue'])\n",
    "plt.xlim(-1, 4)\n",
    "plt.ylim(-1, 4)"
   ]
  },
  {
   "cell_type": "markdown",
   "id": "75a08a3e",
   "metadata": {},
   "source": [
    "Applying a matrix to a vector (i.e., performing matrix-vector multiplication) can linearly transform the vector. e.g, rotate if or rescale it.\n",
    "\n",
    "The identity matrix, introduced earlier, is the exception that proves the rule:\n",
    "Applying an identity matrix does not transform the vector."
   ]
  },
  {
   "cell_type": "code",
   "execution_count": 237,
   "id": "8f8ba5fc",
   "metadata": {},
   "outputs": [
    {
     "data": {
      "text/plain": [
       "array([[1, 0],\n",
       "       [0, 1]])"
      ]
     },
     "execution_count": 237,
     "metadata": {},
     "output_type": "execute_result"
    }
   ],
   "source": [
    "import numpy as np\n",
    "I = np.array([[1,0], [0,1]])\n",
    "I"
   ]
  },
  {
   "cell_type": "code",
   "execution_count": 238,
   "id": "98ef5f78",
   "metadata": {},
   "outputs": [
    {
     "data": {
      "text/plain": [
       "array([3, 1])"
      ]
     },
     "execution_count": 238,
     "metadata": {},
     "output_type": "execute_result"
    }
   ],
   "source": [
    "Iv = np.dot(I,v)\n",
    "Iv"
   ]
  },
  {
   "cell_type": "code",
   "execution_count": 239,
   "id": "dd3096d1",
   "metadata": {},
   "outputs": [
    {
     "data": {
      "text/plain": [
       "array([ True,  True])"
      ]
     },
     "execution_count": 239,
     "metadata": {},
     "output_type": "execute_result"
    }
   ],
   "source": [
    "v == Iv"
   ]
  },
  {
   "cell_type": "code",
   "execution_count": 240,
   "id": "7e6f6f90",
   "metadata": {},
   "outputs": [
    {
     "data": {
      "text/plain": [
       "(-1.0, 4.0)"
      ]
     },
     "execution_count": 240,
     "metadata": {},
     "output_type": "execute_result"
    },
    {
     "data": {
      "image/png": "[encoded data removed]",
      "text/plain": [
       "<Figure size 400x400 with 1 Axes>"
      ]
     },
     "metadata": {},
     "output_type": "display_data"
    }
   ],
   "source": [
    "plotVectors([Iv], cols = ['blue'])\n",
    "plt.xlim(-1,4)\n",
    "plt.ylim(-1,4)"
   ]
  },
  {
   "cell_type": "markdown",
   "id": "0481ca55",
   "metadata": {},
   "source": [
    "In contrast, consider this matrix(let's call it E) that flips vectors over the x-axis:"
   ]
  },
  {
   "cell_type": "code",
   "execution_count": 241,
   "id": "d36ca625",
   "metadata": {},
   "outputs": [
    {
     "data": {
      "text/plain": [
       "array([[ 1,  0],\n",
       "       [ 0, -1]])"
      ]
     },
     "execution_count": 241,
     "metadata": {},
     "output_type": "execute_result"
    }
   ],
   "source": [
    "E = np.array([[1,0], [0,-1]])\n",
    "E"
   ]
  },
  {
   "cell_type": "code",
   "execution_count": 242,
   "id": "7b198a8e",
   "metadata": {},
   "outputs": [
    {
     "data": {
      "text/plain": [
       "array([ 3, -1])"
      ]
     },
     "execution_count": 242,
     "metadata": {},
     "output_type": "execute_result"
    }
   ],
   "source": [
    "Ev = np.dot(E,v)\n",
    "Ev"
   ]
  },
  {
   "cell_type": "code",
   "execution_count": 243,
   "id": "26ddbb0b",
   "metadata": {},
   "outputs": [
    {
     "data": {
      "text/plain": [
       "(-1.0, 5.0)"
      ]
     },
     "execution_count": 243,
     "metadata": {},
     "output_type": "execute_result"
    },
    {
     "data": {
      "image/png": "[encoded data removed]",
      "text/plain": [
       "<Figure size 400x400 with 1 Axes>"
      ]
     },
     "metadata": {},
     "output_type": "display_data"
    }
   ],
   "source": [
    "plotVectors([v,Ev], cols=['lightblue', 'blue'])\n",
    "plt.xlim(-1,5)\n",
    "plt.ylim(-1,5)"
   ]
  },
  {
   "cell_type": "markdown",
   "id": "031f2dbc",
   "metadata": {},
   "source": [
    "Or, this matrix, F, which flips vectors over the y-axis"
   ]
  },
  {
   "cell_type": "code",
   "execution_count": 244,
   "id": "5f25b148",
   "metadata": {},
   "outputs": [
    {
     "data": {
      "text/plain": [
       "array([[-1,  0],\n",
       "       [ 0,  1]])"
      ]
     },
     "execution_count": 244,
     "metadata": {},
     "output_type": "execute_result"
    }
   ],
   "source": [
    "F = np.array([[-1,0], [0,1]])\n",
    "F"
   ]
  },
  {
   "cell_type": "code",
   "execution_count": 245,
   "id": "90b27d61",
   "metadata": {},
   "outputs": [
    {
     "data": {
      "text/plain": [
       "array([-3,  1])"
      ]
     },
     "execution_count": 245,
     "metadata": {},
     "output_type": "execute_result"
    }
   ],
   "source": [
    "Fv = np.dot(F, v)\n",
    "Fv"
   ]
  },
  {
   "cell_type": "code",
   "execution_count": 246,
   "id": "f470ee63",
   "metadata": {},
   "outputs": [
    {
     "data": {
      "text/plain": [
       "(-1.0, 5.0)"
      ]
     },
     "execution_count": 246,
     "metadata": {},
     "output_type": "execute_result"
    },
    {
     "data": {
      "image/png": "[encoded data removed]",
      "text/plain": [
       "<Figure size 400x400 with 1 Axes>"
      ]
     },
     "metadata": {},
     "output_type": "display_data"
    }
   ],
   "source": [
    "plotVectors([v,Fv], cols=['lightblue', 'blue'])\n",
    "plt.xlim(-4, 4)\n",
    "plt.ylim(-1,5)"
   ]
  },
  {
   "cell_type": "markdown",
   "id": "75672baf",
   "metadata": {},
   "source": [
    "Applying a flipping matrix is an example of an #affine transformation: a change in geometry that may adjust distances or angles between vectors, but preserves parallelism between them. \n",
    "\n",
    "In addition to flipping a matrix over an axis (a.k.a., reflection), other common affine tranformation include:\n",
    " - Scalling(changing the length of vectors)\n",
    " - Shearing(example of this on the Mona Lisa coming up shortly)\n",
    " -Rotation\n",
    " \n",
    " \n",
    " A single matrix can apply multiple affine tranforms simultaneously ( e.g., flip over an axis and rotae 45 degrees). As an example. let's see what happens when we apply this matrix A to vector v:"
   ]
  },
  {
   "cell_type": "code",
   "execution_count": 247,
   "id": "30c5a4af",
   "metadata": {},
   "outputs": [
    {
     "data": {
      "text/plain": [
       "array([[-1,  4],\n",
       "       [ 2, -2]])"
      ]
     },
     "execution_count": 247,
     "metadata": {},
     "output_type": "execute_result"
    }
   ],
   "source": [
    "import numpy as np\n",
    "A = np.array([[-1, 4], [2, -2]])\n",
    "A"
   ]
  },
  {
   "cell_type": "code",
   "execution_count": 248,
   "id": "cba4b2c6",
   "metadata": {},
   "outputs": [
    {
     "data": {
      "text/plain": [
       "array([1, 4])"
      ]
     },
     "execution_count": 248,
     "metadata": {},
     "output_type": "execute_result"
    }
   ],
   "source": [
    "Av = np.dot(A, v)\n",
    "Av"
   ]
  },
  {
   "cell_type": "code",
   "execution_count": 249,
   "id": "bf271e67",
   "metadata": {},
   "outputs": [
    {
     "data": {
      "text/plain": [
       "(-1.0, 5.0)"
      ]
     },
     "execution_count": 249,
     "metadata": {},
     "output_type": "execute_result"
    },
    {
     "data": {
      "image/png": "[encoded data removed]",
      "text/plain": [
       "<Figure size 400x400 with 1 Axes>"
      ]
     },
     "metadata": {},
     "output_type": "display_data"
    }
   ],
   "source": [
    "plotVectors([v, Av], cols = ['lightblue', 'blue'])\n",
    "plt.xlim(-1, 5)\n",
    "plt.ylim(-1, 5)"
   ]
  },
  {
   "cell_type": "code",
   "execution_count": 250,
   "id": "614e833d",
   "metadata": {},
   "outputs": [
    {
     "data": {
      "text/plain": [
       "(-1.0, 5.0)"
      ]
     },
     "execution_count": 250,
     "metadata": {},
     "output_type": "execute_result"
    },
    {
     "data": {
      "image/png": "[encoded data removed]",
      "text/plain": [
       "<Figure size 400x400 with 1 Axes>"
      ]
     },
     "metadata": {},
     "output_type": "display_data"
    }
   ],
   "source": [
    "# Another example of applying A:\n",
    "v2 = np.array([2,1])\n",
    "plotVectors([v2, np.dot(A,v2)], cols = ['lightgreen', 'green'])\n",
    "plt.xlim(-1, 5)\n",
    "plt.ylim(-1,5)"
   ]
  },
  {
   "cell_type": "markdown",
   "id": "d47cf778",
   "metadata": {},
   "source": [
    "We can concatenate several vectors together into a matrix (say,  𝑉 ), where each column is a separate vector. Then, whatever linear transformations we apply to  𝑉  will be independently applied to each column (vector):"
   ]
  },
  {
   "cell_type": "code",
   "execution_count": 251,
   "id": "c60b7f6d",
   "metadata": {},
   "outputs": [
    {
     "data": {
      "text/plain": [
       "array([3, 1])"
      ]
     },
     "execution_count": 251,
     "metadata": {},
     "output_type": "execute_result"
    }
   ],
   "source": [
    "v"
   ]
  },
  {
   "cell_type": "code",
   "execution_count": 252,
   "id": "0fa76970",
   "metadata": {},
   "outputs": [
    {
     "data": {
      "text/plain": [
       "matrix([[3],\n",
       "        [1]])"
      ]
     },
     "execution_count": 252,
     "metadata": {},
     "output_type": "execute_result"
    }
   ],
   "source": [
    "# recall that we need to convert array to 2D to transpose into column, e.g., \n",
    "np.matrix(v).T"
   ]
  },
  {
   "cell_type": "code",
   "execution_count": 253,
   "id": "5ada0797",
   "metadata": {},
   "outputs": [],
   "source": [
    "v3 = np.array([-3,-1]) # mirror image of v over both axes \n",
    "v4 = np.array([-1,1])"
   ]
  },
  {
   "cell_type": "code",
   "execution_count": 254,
   "id": "ff1b369d",
   "metadata": {},
   "outputs": [
    {
     "data": {
      "text/plain": [
       "matrix([[ 3,  2, -3, -1],\n",
       "        [ 1,  1, -1,  1]])"
      ]
     },
     "execution_count": 254,
     "metadata": {},
     "output_type": "execute_result"
    }
   ],
   "source": [
    "V = np.concatenate((np.matrix(v).T,\n",
    "                   np.matrix(v2).T,\n",
    "                   np.matrix(v3).T,\n",
    "                   np.matrix(v4).T),\n",
    "                  axis =1)\n",
    "\n",
    "V"
   ]
  },
  {
   "cell_type": "code",
   "execution_count": 255,
   "id": "9a2d2444",
   "metadata": {},
   "outputs": [
    {
     "data": {
      "text/plain": [
       "matrix([[ 3,  2, -3, -1],\n",
       "        [ 1,  1, -1,  1]])"
      ]
     },
     "execution_count": 255,
     "metadata": {},
     "output_type": "execute_result"
    }
   ],
   "source": [
    "IV = np.dot(I,V)\n",
    "IV"
   ]
  },
  {
   "cell_type": "code",
   "execution_count": 256,
   "id": "1a25aa69",
   "metadata": {},
   "outputs": [
    {
     "data": {
      "text/plain": [
       "matrix([[ 1,  2, -1,  5],\n",
       "        [ 4,  2, -4, -4]])"
      ]
     },
     "execution_count": 256,
     "metadata": {},
     "output_type": "execute_result"
    }
   ],
   "source": [
    "AV = np.dot(A, V)\n",
    "AV"
   ]
  },
  {
   "cell_type": "code",
   "execution_count": 257,
   "id": "3ce372ff",
   "metadata": {},
   "outputs": [],
   "source": [
    "# function to convert column of matrix to 1D vector:\n",
    "\n",
    "def vectorfy(mtrx, clmn):\n",
    "    return np.array(mtrx[:, clmn]).reshape(-1)"
   ]
  },
  {
   "cell_type": "code",
   "execution_count": 258,
   "id": "5cade667",
   "metadata": {},
   "outputs": [
    {
     "data": {
      "text/plain": [
       "array([3, 1])"
      ]
     },
     "execution_count": 258,
     "metadata": {},
     "output_type": "execute_result"
    }
   ],
   "source": [
    "vectorfy(V, 0)"
   ]
  },
  {
   "cell_type": "code",
   "execution_count": 259,
   "id": "78651ef0",
   "metadata": {},
   "outputs": [
    {
     "data": {
      "text/plain": [
       "array([ True,  True])"
      ]
     },
     "execution_count": 259,
     "metadata": {},
     "output_type": "execute_result"
    }
   ],
   "source": [
    "vectorfy(V,0) == v"
   ]
  },
  {
   "cell_type": "code",
   "execution_count": 260,
   "id": "a0fc7d06",
   "metadata": {},
   "outputs": [
    {
     "data": {
      "text/plain": [
       "(-5.0, 5.0)"
      ]
     },
     "execution_count": 260,
     "metadata": {},
     "output_type": "execute_result"
    },
    {
     "data": {
      "image/png": "[encoded data removed]",
      "text/plain": [
       "<Figure size 400x400 with 1 Axes>"
      ]
     },
     "metadata": {},
     "output_type": "display_data"
    }
   ],
   "source": [
    "plotVectors([vectorfy(V, 0), vectorfy(V, 1), vectorfy(V, 2), vectorfy(V, 3),\n",
    "             vectorfy(AV, 0), vectorfy(AV, 1), vectorfy(AV, 2), vectorfy(AV, 3)], \n",
    "            cols = ['lightblue', 'lightgreen', 'lightgray', 'orange',\n",
    "             'blue', 'green', 'gray', 'red'])\n",
    "plt.xlim(-4,6)\n",
    "plt.ylim(-5,5)"
   ]
  },
  {
   "cell_type": "markdown",
   "id": "4e4ea1fc",
   "metadata": {},
   "source": [
    "Now that we can appreciate the linear transformation of vectors by matrices, let's move on to working with eigenvectors and eigenvalues..."
   ]
  },
  {
   "cell_type": "markdown",
   "id": "b08a6297",
   "metadata": {},
   "source": [
    "# Eigenvectors and Eigenvalues\n",
    "\n",
    "An eigenvector (eigen is German for \"typical\"; we could translate eigenvector to \"characteristic vector\") is a special vector  𝑣 \n",
    "such that when it is transformed by some matrix (let's say  𝐴 ), the product  𝐴𝑣  has the exact same direction as  𝑣 .\n",
    "\n",
    "\n",
    "An eigenvalue is a scalar (traditionally represented as  𝜆 ) that simply scales the eigenvector  𝑣  such that the following equation is satisfied:\n",
    "𝐴𝑣=𝜆𝑣"
   ]
  },
  {
   "cell_type": "markdown",
   "id": "97538dbc",
   "metadata": {},
   "source": [
    "# Easiest way to understand this is to work through an example:\n",
    "\n",
    "A\n",
    "\n"
   ]
  },
  {
   "cell_type": "markdown",
   "id": "fe94cb13",
   "metadata": {},
   "source": [
    "Eigenvectors and eigenvalues can be derived algebraically (e.g., with the QR algorithm, which was independently developed in the 1950s by both Vera Kublanovskaya and John Francis), however this is outside scope of the ML Foundations series. We'll cheat with NumPy eig() method, which returns a tuple of:\n",
    "\n",
    "a vector of eigenvalues\n",
    "a matrix of eigenvectors\n",
    "\n"
   ]
  },
  {
   "cell_type": "code",
   "execution_count": 262,
   "id": "97a4d8a8",
   "metadata": {},
   "outputs": [],
   "source": [
    "lambdas, V = np.linalg.eig(A)"
   ]
  },
  {
   "cell_type": "code",
   "execution_count": 263,
   "id": "e1cf1b73",
   "metadata": {},
   "outputs": [
    {
     "data": {
      "text/plain": [
       "array([[ 0.86011126, -0.76454754],\n",
       "       [ 0.51010647,  0.64456735]])"
      ]
     },
     "execution_count": 263,
     "metadata": {},
     "output_type": "execute_result"
    }
   ],
   "source": [
    "# The matrix contains as many eigenvectors as there are colomn of A:\n",
    "V # each colum is a separate eigenvector v"
   ]
  },
  {
   "cell_type": "code",
   "execution_count": 264,
   "id": "aa2405b2",
   "metadata": {},
   "outputs": [
    {
     "data": {
      "text/plain": [
       "array([ 1.37228132, -4.37228132])"
      ]
     },
     "execution_count": 264,
     "metadata": {},
     "output_type": "execute_result"
    }
   ],
   "source": [
    "# With a corresponding eigenvalue for each eigenvector \n",
    "lambdas"
   ]
  },
  {
   "cell_type": "code",
   "execution_count": 265,
   "id": "0ddbcf2d",
   "metadata": {},
   "outputs": [
    {
     "data": {
      "text/plain": [
       "array([0.86011126, 0.51010647])"
      ]
     },
     "execution_count": 265,
     "metadata": {},
     "output_type": "execute_result"
    }
   ],
   "source": [
    "# let's confirm that 𝐴𝑣=𝜆𝑣 for first eigenvector \n",
    "v = V[:, 0]\n",
    "v"
   ]
  },
  {
   "cell_type": "code",
   "execution_count": 266,
   "id": "19a0e476",
   "metadata": {},
   "outputs": [
    {
     "data": {
      "text/plain": [
       "1.3722813232690143"
      ]
     },
     "execution_count": 266,
     "metadata": {},
     "output_type": "execute_result"
    }
   ],
   "source": [
    "lambduh = lambdas[0] # note that \"lambda\" is reserved term in Python lambduh\n",
    "lambduh "
   ]
  },
  {
   "cell_type": "code",
   "execution_count": 267,
   "id": "f1701c09",
   "metadata": {},
   "outputs": [
    {
     "data": {
      "text/plain": [
       "array([1.18031462, 0.70000958])"
      ]
     },
     "execution_count": 267,
     "metadata": {},
     "output_type": "execute_result"
    }
   ],
   "source": [
    "Av = np.dot(A,v)\n",
    "Av"
   ]
  },
  {
   "cell_type": "code",
   "execution_count": 268,
   "id": "12116842",
   "metadata": {},
   "outputs": [
    {
     "data": {
      "text/plain": [
       "array([1.18031462, 0.70000958])"
      ]
     },
     "execution_count": 268,
     "metadata": {},
     "output_type": "execute_result"
    }
   ],
   "source": [
    "lambduh*v"
   ]
  },
  {
   "cell_type": "code",
   "execution_count": 269,
   "id": "49cb8b50",
   "metadata": {},
   "outputs": [
    {
     "data": {
      "text/plain": [
       "(-1.0, 2.0)"
      ]
     },
     "execution_count": 269,
     "metadata": {},
     "output_type": "execute_result"
    },
    {
     "data": {
      "image/png": "[encoded data removed]",
      "text/plain": [
       "<Figure size 400x400 with 1 Axes>"
      ]
     },
     "metadata": {},
     "output_type": "display_data"
    }
   ],
   "source": [
    "plotVectors([Av, v], cols= ['blue', 'lightblue'])\n",
    "plt.xlim(-1,2)\n",
    "plt.ylim(-1,2)"
   ]
  },
  {
   "cell_type": "code",
   "execution_count": 270,
   "id": "45e63bd9",
   "metadata": {},
   "outputs": [
    {
     "data": {
      "text/plain": [
       "array([-0.76454754,  0.64456735])"
      ]
     },
     "execution_count": 270,
     "metadata": {},
     "output_type": "execute_result"
    }
   ],
   "source": [
    "# And again for the second eigenvector of A:\n",
    "v2 = V[:, 1]\n",
    "v2"
   ]
  },
  {
   "cell_type": "code",
   "execution_count": 271,
   "id": "02ac9b16",
   "metadata": {},
   "outputs": [
    {
     "data": {
      "text/plain": [
       "-4.372281323269014"
      ]
     },
     "execution_count": 271,
     "metadata": {},
     "output_type": "execute_result"
    }
   ],
   "source": [
    "lambda2 = lambdas[1]\n",
    "lambda2"
   ]
  },
  {
   "cell_type": "code",
   "execution_count": 272,
   "id": "d1581dbe",
   "metadata": {},
   "outputs": [
    {
     "data": {
      "text/plain": [
       "array([ 3.34281692, -2.81822977])"
      ]
     },
     "execution_count": 272,
     "metadata": {},
     "output_type": "execute_result"
    }
   ],
   "source": [
    "Av2 = np.dot(A, v2)\n",
    "Av2"
   ]
  },
  {
   "cell_type": "code",
   "execution_count": 273,
   "id": "af117e49",
   "metadata": {},
   "outputs": [
    {
     "data": {
      "text/plain": [
       "array([ 3.34281692, -2.81822977])"
      ]
     },
     "execution_count": 273,
     "metadata": {},
     "output_type": "execute_result"
    }
   ],
   "source": [
    "lambda2*v2"
   ]
  },
  {
   "cell_type": "code",
   "execution_count": 274,
   "id": "0b29550d",
   "metadata": {},
   "outputs": [
    {
     "data": {
      "text/plain": [
       "(-3.0, 2.0)"
      ]
     },
     "execution_count": 274,
     "metadata": {},
     "output_type": "execute_result"
    },
    {
     "data": {
      "image/png": "[encoded data removed]",
      "text/plain": [
       "<Figure size 400x400 with 1 Axes>"
      ]
     },
     "metadata": {},
     "output_type": "display_data"
    }
   ],
   "source": [
    "plotVectors([Av, v, Av2,v2], cols= ['blue', 'lightblue', 'green', 'lightgreen'])\n",
    "plt.xlim(-1,4)\n",
    "plt.ylim(-3,2)"
   ]
  },
  {
   "cell_type": "code",
   "execution_count": 275,
   "id": "1062d371",
   "metadata": {},
   "outputs": [
    {
     "data": {
      "text/plain": [
       "array([[-1,  4],\n",
       "       [ 2, -2]])"
      ]
     },
     "execution_count": 275,
     "metadata": {},
     "output_type": "execute_result"
    }
   ],
   "source": [
    "# Using the PyTorch eig() method, we can do exactly the same:\n",
    "A"
   ]
  },
  {
   "cell_type": "code",
   "execution_count": 276,
   "id": "8e8384fa",
   "metadata": {},
   "outputs": [
    {
     "data": {
      "text/plain": [
       "tensor([[-1.,  4.],\n",
       "        [ 2., -2.]])"
      ]
     },
     "execution_count": 276,
     "metadata": {},
     "output_type": "execute_result"
    }
   ],
   "source": [
    "import torch\n",
    "A_p = torch.tensor([[-1, 4], [2, -2.]]) # must be float for PyTorch eig()\n",
    "A_p"
   ]
  },
  {
   "cell_type": "code",
   "execution_count": 277,
   "id": "cc128a6b",
   "metadata": {},
   "outputs": [],
   "source": [
    "lambdas_cplx, V_cplx = torch.linalg.eig(A_p) # outputs complex numbers because real matrices can have complex eigenvectors"
   ]
  },
  {
   "cell_type": "code",
   "execution_count": 278,
   "id": "c8d12ef9",
   "metadata": {},
   "outputs": [
    {
     "data": {
      "text/plain": [
       "tensor([[ 0.8601+0.j, -0.7645+0.j],\n",
       "        [ 0.5101+0.j,  0.6446+0.j]])"
      ]
     },
     "execution_count": 278,
     "metadata": {},
     "output_type": "execute_result"
    }
   ],
   "source": [
    "V_cplx # complex-typed values with \"0.j\" imaginary part are in fact\n",
    "       # real numbers "
   ]
  },
  {
   "cell_type": "code",
   "execution_count": 279,
   "id": "55e104df",
   "metadata": {},
   "outputs": [
    {
     "data": {
      "text/plain": [
       "tensor([[ 0.8601, -0.7645],\n",
       "        [ 0.5101,  0.6446]])"
      ]
     },
     "execution_count": 279,
     "metadata": {},
     "output_type": "execute_result"
    }
   ],
   "source": [
    "V_p = V_cplx.float()\n",
    "V_p"
   ]
  },
  {
   "cell_type": "code",
   "execution_count": 280,
   "id": "01b59e21",
   "metadata": {},
   "outputs": [
    {
     "data": {
      "text/plain": [
       "tensor([0.8601, 0.5101])"
      ]
     },
     "execution_count": 280,
     "metadata": {},
     "output_type": "execute_result"
    }
   ],
   "source": [
    "v_p = V_p[:,0]\n",
    "v_p"
   ]
  },
  {
   "cell_type": "code",
   "execution_count": 281,
   "id": "f9171029",
   "metadata": {},
   "outputs": [
    {
     "data": {
      "text/plain": [
       "tensor([ 1.3723+0.j, -4.3723+0.j])"
      ]
     },
     "execution_count": 281,
     "metadata": {},
     "output_type": "execute_result"
    }
   ],
   "source": [
    "lambdas_cplx"
   ]
  },
  {
   "cell_type": "code",
   "execution_count": 282,
   "id": "b18bacae",
   "metadata": {},
   "outputs": [
    {
     "data": {
      "text/plain": [
       "tensor([ 1.3723, -4.3723])"
      ]
     },
     "execution_count": 282,
     "metadata": {},
     "output_type": "execute_result"
    }
   ],
   "source": [
    "lambdas_p = lambdas_cplx.float()\n",
    "lambdas_p "
   ]
  },
  {
   "cell_type": "code",
   "execution_count": 283,
   "id": "8b5a393d",
   "metadata": {},
   "outputs": [
    {
     "data": {
      "text/plain": [
       "tensor(1.3723)"
      ]
     },
     "execution_count": 283,
     "metadata": {},
     "output_type": "execute_result"
    }
   ],
   "source": [
    "lambda_p = lambdas_p[0]\n",
    "lambda_p"
   ]
  },
  {
   "cell_type": "code",
   "execution_count": 284,
   "id": "64fb8920",
   "metadata": {},
   "outputs": [
    {
     "data": {
      "text/plain": [
       "tensor([1.1803, 0.7000])"
      ]
     },
     "execution_count": 284,
     "metadata": {},
     "output_type": "execute_result"
    }
   ],
   "source": [
    "Av_p = torch.matmul(A_p, v_p) # matmul() expects float-typed tensors \n",
    "Av_p"
   ]
  },
  {
   "cell_type": "code",
   "execution_count": 285,
   "id": "7baf3082",
   "metadata": {},
   "outputs": [
    {
     "data": {
      "text/plain": [
       "tensor([1.1803, 0.7000])"
      ]
     },
     "execution_count": 285,
     "metadata": {},
     "output_type": "execute_result"
    }
   ],
   "source": [
    "lambda_p * v_p "
   ]
  },
  {
   "cell_type": "code",
   "execution_count": 286,
   "id": "c1f81149",
   "metadata": {},
   "outputs": [
    {
     "data": {
      "text/plain": [
       "tensor([-0.7645,  0.6446])"
      ]
     },
     "execution_count": 286,
     "metadata": {},
     "output_type": "execute_result"
    }
   ],
   "source": [
    "v2_p = V_p[:,1]\n",
    "v2_p"
   ]
  },
  {
   "cell_type": "code",
   "execution_count": 287,
   "id": "277c035f",
   "metadata": {},
   "outputs": [
    {
     "data": {
      "text/plain": [
       "tensor(-4.3723)"
      ]
     },
     "execution_count": 287,
     "metadata": {},
     "output_type": "execute_result"
    }
   ],
   "source": [
    "lambda2_p = lambdas_p[1]\n",
    "lambda2_p"
   ]
  },
  {
   "cell_type": "code",
   "execution_count": 288,
   "id": "376069ed",
   "metadata": {},
   "outputs": [
    {
     "data": {
      "text/plain": [
       "tensor([1.1803, 0.7000])"
      ]
     },
     "execution_count": 288,
     "metadata": {},
     "output_type": "execute_result"
    }
   ],
   "source": [
    "Av2_p = torch.matmul(A_p.float(), v2_p.float())\n",
    "Av_p"
   ]
  },
  {
   "cell_type": "code",
   "execution_count": 289,
   "id": "c14b24e6",
   "metadata": {},
   "outputs": [
    {
     "data": {
      "text/plain": [
       "tensor([ 3.3428, -2.8182])"
      ]
     },
     "execution_count": 289,
     "metadata": {},
     "output_type": "execute_result"
    }
   ],
   "source": [
    "lambda2_p.float()*v2_p.float()"
   ]
  },
  {
   "cell_type": "code",
   "execution_count": 290,
   "id": "e00ca849",
   "metadata": {},
   "outputs": [
    {
     "data": {
      "text/plain": [
       "(-3.0, 2.0)"
      ]
     },
     "execution_count": 290,
     "metadata": {},
     "output_type": "execute_result"
    },
    {
     "data": {
      "image/png": "[encoded data removed]",
      "text/plain": [
       "<Figure size 400x400 with 1 Axes>"
      ]
     },
     "metadata": {},
     "output_type": "display_data"
    }
   ],
   "source": [
    "plotVectors([Av_p.numpy(),\n",
    "             v_p.numpy(),\n",
    "             Av2_p.numpy(),\n",
    "             v2_p.numpy()],\n",
    "             cols = ['blue', 'lightblue', 'green', 'lightgreen'])\n",
    "plt.xlim(-1,4)\n",
    "plt.ylim(-3,2)"
   ]
  },
  {
   "cell_type": "markdown",
   "id": "3777198d",
   "metadata": {},
   "source": [
    "# Eigenvectors in 2 Dimensions \n",
    "\n",
    "While plotting gets tricker in higer-dimensional spaces, we can nevertheless find and use eigenvectors with more than two dimensions. Here's a 3D example (there are three dimensions handle over three rows):\n"
   ]
  },
  {
   "cell_type": "code",
   "execution_count": 291,
   "id": "395122cc",
   "metadata": {},
   "outputs": [
    {
     "data": {
      "text/plain": [
       "array([[25,  2,  9],\n",
       "       [ 5, 26, -5],\n",
       "       [ 3,  7, -1]])"
      ]
     },
     "execution_count": 291,
     "metadata": {},
     "output_type": "execute_result"
    }
   ],
   "source": [
    "import numpy as np\n",
    "X = np.array([[25, 2, 9], [5, 26, -5], [3, 7, -1]])\n",
    "X"
   ]
  },
  {
   "cell_type": "code",
   "execution_count": 292,
   "id": "ab069479",
   "metadata": {},
   "outputs": [],
   "source": [
    "lambdas_X, V_X = np.linalg.eig(X)"
   ]
  },
  {
   "cell_type": "code",
   "execution_count": 293,
   "id": "ad9a28bd",
   "metadata": {},
   "outputs": [
    {
     "data": {
      "text/plain": [
       "array([[-0.71175736, -0.6501921 , -0.34220476],\n",
       "       [-0.66652125,  0.74464056,  0.23789717],\n",
       "       [-0.22170001,  0.15086635,  0.90901091]])"
      ]
     },
     "execution_count": 293,
     "metadata": {},
     "output_type": "execute_result"
    }
   ],
   "source": [
    "V_X # one eigenvector per column of X"
   ]
  },
  {
   "cell_type": "code",
   "execution_count": 294,
   "id": "e1fdc3f7",
   "metadata": {},
   "outputs": [
    {
     "data": {
      "text/plain": [
       "array([29.67623202, 20.62117365, -0.29740567])"
      ]
     },
     "execution_count": 294,
     "metadata": {},
     "output_type": "execute_result"
    }
   ],
   "source": [
    "lambdas_X # a corresponding eigenvalue for each eigenvector "
   ]
  },
  {
   "cell_type": "markdown",
   "id": "3c76ab64",
   "metadata": {},
   "source": [
    "Confirm  𝑋𝑣=𝜆𝑣  for an example eigenvector:"
   ]
  },
  {
   "cell_type": "code",
   "execution_count": 295,
   "id": "61711f91",
   "metadata": {},
   "outputs": [
    {
     "data": {
      "text/plain": [
       "array([-0.71175736, -0.66652125, -0.22170001])"
      ]
     },
     "execution_count": 295,
     "metadata": {},
     "output_type": "execute_result"
    }
   ],
   "source": [
    "v_X = V_X[:, 0]\n",
    "v_X"
   ]
  },
  {
   "cell_type": "code",
   "execution_count": 296,
   "id": "0d32a991",
   "metadata": {},
   "outputs": [
    {
     "data": {
      "text/plain": [
       "29.676232023948916"
      ]
     },
     "execution_count": 296,
     "metadata": {},
     "output_type": "execute_result"
    }
   ],
   "source": [
    "lambda_X = lambdas_X[0]\n",
    "lambda_X"
   ]
  },
  {
   "cell_type": "code",
   "execution_count": 297,
   "id": "a162d1b5",
   "metadata": {},
   "outputs": [
    {
     "data": {
      "text/plain": [
       "array([-21.12227645, -19.77983919,  -6.5792208 ])"
      ]
     },
     "execution_count": 297,
     "metadata": {},
     "output_type": "execute_result"
    }
   ],
   "source": [
    "np.dot(X, v_X) # matrix multiplication\n"
   ]
  },
  {
   "cell_type": "code",
   "execution_count": 298,
   "id": "01253265",
   "metadata": {},
   "outputs": [
    {
     "data": {
      "text/plain": [
       "array([-21.12227645, -19.77983919,  -6.5792208 ])"
      ]
     },
     "execution_count": 298,
     "metadata": {},
     "output_type": "execute_result"
    }
   ],
   "source": [
    "lambda_X * v_X"
   ]
  },
  {
   "cell_type": "raw",
   "id": "3dd89f4c",
   "metadata": {},
   "source": [
    "2x2 Matrix Determinants"
   ]
  },
  {
   "cell_type": "code",
   "execution_count": 299,
   "id": "67cfa0dc",
   "metadata": {},
   "outputs": [
    {
     "data": {
      "text/plain": [
       "array([[ 4,  2],\n",
       "       [-5, -3]])"
      ]
     },
     "execution_count": 299,
     "metadata": {},
     "output_type": "execute_result"
    }
   ],
   "source": [
    "X = np.array([[4,2], [-5, -3]])\n",
    "X"
   ]
  },
  {
   "cell_type": "code",
   "execution_count": 300,
   "id": "6e6df930",
   "metadata": {},
   "outputs": [
    {
     "data": {
      "text/plain": [
       "-2.0000000000000004"
      ]
     },
     "execution_count": 300,
     "metadata": {},
     "output_type": "execute_result"
    }
   ],
   "source": [
    "np.linalg.det(X)"
   ]
  },
  {
   "cell_type": "code",
   "execution_count": 301,
   "id": "7ad11236",
   "metadata": {},
   "outputs": [
    {
     "data": {
      "text/plain": [
       "array([[-4,  1],\n",
       "       [-8,  2]])"
      ]
     },
     "execution_count": 301,
     "metadata": {},
     "output_type": "execute_result"
    }
   ],
   "source": [
    "N = np.array([[-4, 1], [-8, 2]])\n",
    "\n",
    "N\n",
    "\n"
   ]
  },
  {
   "cell_type": "code",
   "execution_count": 302,
   "id": "5e2233bb",
   "metadata": {},
   "outputs": [
    {
     "data": {
      "text/plain": [
       "0.0"
      ]
     },
     "execution_count": 302,
     "metadata": {},
     "output_type": "execute_result"
    }
   ],
   "source": [
    "np.linalg.det(N)"
   ]
  },
  {
   "attachments": {},
   "cell_type": "markdown",
   "id": "a50d1562",
   "metadata": {},
   "source": [
    "Uncommenting the following line results in a \"singular matrix\" error<br>\n",
    "Ninv = np.linalg.inv(N)"
   ]
  },
  {
   "cell_type": "code",
   "execution_count": 304,
   "id": "0f4c5a59",
   "metadata": {},
   "outputs": [],
   "source": [
    "N = torch.tensor([[-4, 1], [-8, 2.]]) # must use float not int "
   ]
  },
  {
   "cell_type": "code",
   "execution_count": 305,
   "id": "a2feacec",
   "metadata": {},
   "outputs": [
    {
     "data": {
      "text/plain": [
       "tensor(0.)"
      ]
     },
     "execution_count": 305,
     "metadata": {},
     "output_type": "execute_result"
    }
   ],
   "source": [
    "torch.det(N)"
   ]
  },
  {
   "cell_type": "code",
   "execution_count": 306,
   "id": "3db183d4",
   "metadata": {},
   "outputs": [
    {
     "data": {
      "text/plain": [
       "array([[ 1,  2,  4],\n",
       "       [ 2, -1,  3],\n",
       "       [ 0,  5,  1]])"
      ]
     },
     "execution_count": 306,
     "metadata": {},
     "output_type": "execute_result"
    }
   ],
   "source": [
    "# Generalizing Determinants \n",
    "\n",
    "X = np.array([[1,2,4], [2,-1, 3], [0,5,1]])\n",
    "X"
   ]
  },
  {
   "cell_type": "code",
   "execution_count": 307,
   "id": "c16fd30d",
   "metadata": {},
   "outputs": [
    {
     "data": {
      "text/plain": [
       "19.999999999999996"
      ]
     },
     "execution_count": 307,
     "metadata": {},
     "output_type": "execute_result"
    }
   ],
   "source": [
    "np.linalg.det(X)"
   ]
  },
  {
   "cell_type": "code",
   "execution_count": 308,
   "id": "77827b4e",
   "metadata": {},
   "outputs": [
    {
     "data": {
      "text/plain": [
       "array([-3.25599251, -1.13863631,  5.39462882])"
      ]
     },
     "execution_count": 308,
     "metadata": {},
     "output_type": "execute_result"
    }
   ],
   "source": [
    "# Determinants & Eigenvalues \n",
    "\n",
    "lambdas, V = np.linalg.eig(X)\n",
    "lambdas"
   ]
  },
  {
   "cell_type": "code",
   "execution_count": 309,
   "id": "5cb77afc",
   "metadata": {},
   "outputs": [
    {
     "data": {
      "text/plain": [
       "19.99999999999999"
      ]
     },
     "execution_count": 309,
     "metadata": {},
     "output_type": "execute_result"
    }
   ],
   "source": [
    "np.product(lambdas)"
   ]
  },
  {
   "cell_type": "markdown",
   "id": "ff7aeb3a",
   "metadata": {},
   "source": [
    "Here's |det(𝑋)| in NumPy:"
   ]
  },
  {
   "cell_type": "code",
   "execution_count": 310,
   "id": "15557d9a",
   "metadata": {},
   "outputs": [
    {
     "data": {
      "text/plain": [
       "19.999999999999996"
      ]
     },
     "execution_count": 310,
     "metadata": {},
     "output_type": "execute_result"
    }
   ],
   "source": [
    "np.abs(np.linalg.det(X))"
   ]
  },
  {
   "cell_type": "markdown",
   "id": "61f85996",
   "metadata": {},
   "source": [
    "Let's use a matrix  𝐵 , which is composed of basis vectors, to explore the impact of applying matrices with varying  |det(𝑋)|  values:"
   ]
  },
  {
   "cell_type": "code",
   "execution_count": 311,
   "id": "d7a56bdb",
   "metadata": {},
   "outputs": [
    {
     "data": {
      "text/plain": [
       "array([[1, 0],\n",
       "       [0, 1]])"
      ]
     },
     "execution_count": 311,
     "metadata": {},
     "output_type": "execute_result"
    }
   ],
   "source": [
    "B = np.array([[1,0], [0,1]])\n",
    "B"
   ]
  },
  {
   "cell_type": "code",
   "execution_count": 312,
   "id": "b9dd4029",
   "metadata": {},
   "outputs": [
    {
     "data": {
      "text/plain": [
       "(-1.0, 3.0)"
      ]
     },
     "execution_count": 312,
     "metadata": {},
     "output_type": "execute_result"
    },
    {
     "data": {
      "image/png": "[encoded data removed]",
      "text/plain": [
       "<Figure size 400x400 with 1 Axes>"
      ]
     },
     "metadata": {},
     "output_type": "display_data"
    }
   ],
   "source": [
    "plotVectors([vectorfy(B,0), vectorfy(B,1)], cols = ['lightblue', 'lightgreen'])\n",
    "\n",
    "plt.xlim(-1,3)\n",
    "plt.ylim(-1,3)"
   ]
  },
  {
   "cell_type": "markdown",
   "id": "c9da3a8e",
   "metadata": {},
   "source": [
    "Let's start by applying the matrix $N$ to B, recalling from earlier that N is singular: \n"
   ]
  },
  {
   "cell_type": "code",
   "execution_count": 313,
   "id": "e252f2ce",
   "metadata": {},
   "outputs": [
    {
     "data": {
      "text/plain": [
       "tensor([[-4.,  1.],\n",
       "        [-8.,  2.]])"
      ]
     },
     "execution_count": 313,
     "metadata": {},
     "output_type": "execute_result"
    }
   ],
   "source": [
    "N"
   ]
  },
  {
   "cell_type": "code",
   "execution_count": 314,
   "id": "40d4a347",
   "metadata": {},
   "outputs": [
    {
     "data": {
      "text/plain": [
       "0.0"
      ]
     },
     "execution_count": 314,
     "metadata": {},
     "output_type": "execute_result"
    }
   ],
   "source": [
    "np.linalg.det(N)"
   ]
  },
  {
   "cell_type": "code",
   "execution_count": 315,
   "id": "600069bf",
   "metadata": {},
   "outputs": [
    {
     "data": {
      "text/plain": [
       "array([[-4.,  1.],\n",
       "       [-8.,  2.]])"
      ]
     },
     "execution_count": 315,
     "metadata": {},
     "output_type": "execute_result"
    }
   ],
   "source": [
    "NB = np.dot(N,B)\n",
    "NB"
   ]
  },
  {
   "cell_type": "code",
   "execution_count": 316,
   "id": "3d9945c7",
   "metadata": {},
   "outputs": [
    {
     "data": {
      "text/plain": [
       "(-9.0, 3.0)"
      ]
     },
     "execution_count": 316,
     "metadata": {},
     "output_type": "execute_result"
    },
    {
     "data": {
      "image/png": "[encoded data removed]",
      "text/plain": [
       "<Figure size 400x400 with 1 Axes>"
      ]
     },
     "metadata": {},
     "output_type": "display_data"
    }
   ],
   "source": [
    "plotVectors([vectorfy(B, 0), vectorfy(B, 1), vectorfy(NB, 0), vectorfy(NB, 1)],\n",
    "            cols = ['lightblue', 'lightgreen', 'blue', 'green'])\n",
    "plt.xlim(-6, 6)\n",
    "plt.ylim(-9, 3)"
   ]
  },
  {
   "cell_type": "code",
   "execution_count": 317,
   "id": "f47e982c",
   "metadata": {},
   "outputs": [
    {
     "data": {
      "text/plain": [
       "array([-2.,  0.], dtype=float32)"
      ]
     },
     "execution_count": 317,
     "metadata": {},
     "output_type": "execute_result"
    }
   ],
   "source": [
    "lambdas, V = np.linalg.eig(N)\n",
    "lambdas "
   ]
  },
  {
   "cell_type": "markdown",
   "id": "3340ed12",
   "metadata": {},
   "source": [
    "If any one of a matrix's eigenvalues is zero, then the product of the eigenvalues must be zero and the determinant must also be zero.\n",
    "\n",
    "\n",
    "Now let's try applying  𝐼2  to  𝐵 :"
   ]
  },
  {
   "cell_type": "code",
   "execution_count": 318,
   "id": "c5a3dacc",
   "metadata": {},
   "outputs": [
    {
     "data": {
      "text/plain": [
       "array([[1, 0],\n",
       "       [0, 1]])"
      ]
     },
     "execution_count": 318,
     "metadata": {},
     "output_type": "execute_result"
    }
   ],
   "source": [
    "I"
   ]
  },
  {
   "cell_type": "code",
   "execution_count": 319,
   "id": "3b46a6e8",
   "metadata": {},
   "outputs": [
    {
     "data": {
      "text/plain": [
       "1.0"
      ]
     },
     "execution_count": 319,
     "metadata": {},
     "output_type": "execute_result"
    }
   ],
   "source": [
    "np.linalg.det(I)"
   ]
  },
  {
   "cell_type": "code",
   "execution_count": 320,
   "id": "c19fe662",
   "metadata": {},
   "outputs": [
    {
     "data": {
      "text/plain": [
       "array([[1, 0],\n",
       "       [0, 1]])"
      ]
     },
     "execution_count": 320,
     "metadata": {},
     "output_type": "execute_result"
    }
   ],
   "source": [
    "IB = np.dot(I,B)\n",
    "IB"
   ]
  },
  {
   "cell_type": "code",
   "execution_count": 321,
   "id": "bb7bce00",
   "metadata": {},
   "outputs": [
    {
     "data": {
      "text/plain": [
       "(-1.0, 3.0)"
      ]
     },
     "execution_count": 321,
     "metadata": {},
     "output_type": "execute_result"
    },
    {
     "data": {
      "image/png": "[encoded data removed]",
      "text/plain": [
       "<Figure size 400x400 with 1 Axes>"
      ]
     },
     "metadata": {},
     "output_type": "display_data"
    }
   ],
   "source": [
    "plotVectors([vectorfy(B, 0), vectorfy(B, 1), vectorfy(IB, 0), vectorfy(IB, 1)],\n",
    "             cols = ['lightblue', 'lightgreen', 'blue', 'green'])\n",
    "plt.xlim(-1, 3)\n",
    "plt.ylim(-1, 3)"
   ]
  },
  {
   "cell_type": "code",
   "execution_count": 322,
   "id": "71de82ac",
   "metadata": {},
   "outputs": [
    {
     "data": {
      "text/plain": [
       "array([1., 1.])"
      ]
     },
     "execution_count": 322,
     "metadata": {},
     "output_type": "execute_result"
    }
   ],
   "source": [
    "lambdas, V = np.linalg.eig(I)\n",
    "lambdas "
   ]
  },
  {
   "cell_type": "raw",
   "id": "592bbbe4",
   "metadata": {},
   "source": [
    "Applying an identity matrix isn't the most exciting operation in the world. Let's now apply this matrix  𝐽  which is more interesting:"
   ]
  },
  {
   "cell_type": "code",
   "execution_count": 323,
   "id": "26e4f825",
   "metadata": {},
   "outputs": [
    {
     "data": {
      "text/plain": [
       "array([[-0.5,  0. ],\n",
       "       [ 0. ,  2. ]])"
      ]
     },
     "execution_count": 323,
     "metadata": {},
     "output_type": "execute_result"
    }
   ],
   "source": [
    "J = np.array([[-0.5, 0], [0, 2]])\n",
    "J"
   ]
  },
  {
   "cell_type": "code",
   "execution_count": 324,
   "id": "ca4ab528",
   "metadata": {},
   "outputs": [
    {
     "data": {
      "text/plain": [
       "-1.0"
      ]
     },
     "execution_count": 324,
     "metadata": {},
     "output_type": "execute_result"
    }
   ],
   "source": [
    "np.linalg.det(J)\n"
   ]
  },
  {
   "cell_type": "code",
   "execution_count": 325,
   "id": "8bd6e7b1",
   "metadata": {},
   "outputs": [
    {
     "data": {
      "text/plain": [
       "1.0"
      ]
     },
     "execution_count": 325,
     "metadata": {},
     "output_type": "execute_result"
    }
   ],
   "source": [
    "np.abs(np.linalg.det(J))"
   ]
  },
  {
   "cell_type": "code",
   "execution_count": 326,
   "id": "4714a9b5",
   "metadata": {},
   "outputs": [
    {
     "data": {
      "text/plain": [
       "array([[-0.5,  0. ],\n",
       "       [ 0. ,  2. ]])"
      ]
     },
     "execution_count": 326,
     "metadata": {},
     "output_type": "execute_result"
    }
   ],
   "source": [
    "JB = np.dot(J, B)\n",
    "JB"
   ]
  },
  {
   "cell_type": "code",
   "execution_count": 327,
   "id": "6b9ceead",
   "metadata": {},
   "outputs": [
    {
     "data": {
      "text/plain": [
       "(-1.0, 3.0)"
      ]
     },
     "execution_count": 327,
     "metadata": {},
     "output_type": "execute_result"
    },
    {
     "data": {
      "image/png": "[encoded data removed]",
      "text/plain": [
       "<Figure size 400x400 with 1 Axes>"
      ]
     },
     "metadata": {},
     "output_type": "display_data"
    }
   ],
   "source": [
    "plotVectors([vectorfy(B, 0), vectorfy(B, 1), vectorfy(JB, 0), vectorfy(JB, 1)],\n",
    "            ['lightblue', 'lightgreen', 'blue', 'green'])\n",
    "plt.xlim(-1, 3)\n",
    "plt.ylim(-1, 3)"
   ]
  },
  {
   "cell_type": "code",
   "execution_count": 328,
   "id": "bf0b396b",
   "metadata": {},
   "outputs": [
    {
     "data": {
      "text/plain": [
       "array([-0.5,  2. ])"
      ]
     },
     "execution_count": 328,
     "metadata": {},
     "output_type": "execute_result"
    }
   ],
   "source": [
    "lambdas, V = np.linalg.eig(J)\n",
    "lambdas"
   ]
  },
  {
   "cell_type": "markdown",
   "id": "9acf8301",
   "metadata": {},
   "source": [
    "Finally, let's apply the matrix  𝐷 , which scales vectors by doubling along both the  𝑥  and  𝑦  axes:"
   ]
  },
  {
   "cell_type": "code",
   "execution_count": 329,
   "id": "0d6334db",
   "metadata": {},
   "outputs": [
    {
     "data": {
      "text/plain": [
       "array([[2, 0],\n",
       "       [0, 2]])"
      ]
     },
     "execution_count": 329,
     "metadata": {},
     "output_type": "execute_result"
    }
   ],
   "source": [
    "D = I*2\n",
    "D"
   ]
  },
  {
   "cell_type": "code",
   "execution_count": 330,
   "id": "cd09ed76",
   "metadata": {},
   "outputs": [
    {
     "data": {
      "text/plain": [
       "4.0"
      ]
     },
     "execution_count": 330,
     "metadata": {},
     "output_type": "execute_result"
    }
   ],
   "source": [
    "np.linalg.det(D)"
   ]
  },
  {
   "cell_type": "code",
   "execution_count": 331,
   "id": "5ffdf572",
   "metadata": {},
   "outputs": [
    {
     "data": {
      "text/plain": [
       "array([[2, 0],\n",
       "       [0, 2]])"
      ]
     },
     "execution_count": 331,
     "metadata": {},
     "output_type": "execute_result"
    }
   ],
   "source": [
    "DB = np.dot(D, B)\n",
    "DB"
   ]
  },
  {
   "cell_type": "code",
   "execution_count": 332,
   "id": "a2520bda",
   "metadata": {},
   "outputs": [
    {
     "data": {
      "text/plain": [
       "(-1.0, 3.0)"
      ]
     },
     "execution_count": 332,
     "metadata": {},
     "output_type": "execute_result"
    },
    {
     "data": {
      "image/png": "[encoded data removed]",
      "text/plain": [
       "<Figure size 400x400 with 1 Axes>"
      ]
     },
     "metadata": {},
     "output_type": "display_data"
    }
   ],
   "source": [
    "plotVectors([vectorfy(B, 0), vectorfy(B, 1), vectorfy(DB, 0), vectorfy(DB, 1)],\n",
    "            ['lightblue', 'lightgreen', 'blue', 'green'])\n",
    "plt.xlim(-1, 3)\n",
    "plt.ylim(-1, 3)"
   ]
  },
  {
   "cell_type": "code",
   "execution_count": 333,
   "id": "4d75e6da",
   "metadata": {},
   "outputs": [
    {
     "data": {
      "text/plain": [
       "array([2., 2.])"
      ]
     },
     "execution_count": 333,
     "metadata": {},
     "output_type": "execute_result"
    }
   ],
   "source": [
    "lambdas, V = np.linalg.eig(D)\n",
    "lambdas"
   ]
  },
  {
   "cell_type": "markdown",
   "id": "4ac52bba",
   "metadata": {},
   "source": [
    "# Eigendecomposition \n",
    "\n",
    "The eigendecomposition of some matrix 𝐴 is\n",
    "\n",
    "𝐴=𝑉Λ𝑉−1\n",
    "\n",
    "Where:\n",
    "\n",
    "- As in examples above,  𝑉  is the concatenation of all the eigenvectors of  𝐴 \n",
    "- Λ  (upper-case  𝜆 ) is the diagonal matrix diag( 𝜆 ). Note that the convention is to arrange the lambda values in descending order; as a result, the first eigenvalue (and its associated eigenvector) may be a primary characteristic of the matrix  𝐴 .\n"
   ]
  },
  {
   "cell_type": "code",
   "execution_count": 334,
   "id": "2d3d3ef1",
   "metadata": {},
   "outputs": [
    {
     "data": {
      "text/plain": [
       "array([[ 4,  2],\n",
       "       [-5, -3]])"
      ]
     },
     "execution_count": 334,
     "metadata": {},
     "output_type": "execute_result"
    }
   ],
   "source": [
    "# This was used earlier as a matrix X; it has nice clean integer eigenvalues...\n",
    "A = np.array([[4, 2], [-5, -3]]) \n",
    "A "
   ]
  },
  {
   "cell_type": "code",
   "execution_count": 335,
   "id": "79158fe5",
   "metadata": {},
   "outputs": [],
   "source": [
    "lambdas, V = np.linalg.eig(A)"
   ]
  },
  {
   "cell_type": "code",
   "execution_count": 336,
   "id": "f0432424",
   "metadata": {},
   "outputs": [
    {
     "data": {
      "text/plain": [
       "array([[ 0.70710678, -0.37139068],\n",
       "       [-0.70710678,  0.92847669]])"
      ]
     },
     "execution_count": 336,
     "metadata": {},
     "output_type": "execute_result"
    }
   ],
   "source": [
    "V"
   ]
  },
  {
   "cell_type": "code",
   "execution_count": 337,
   "id": "d67ac2ad",
   "metadata": {},
   "outputs": [
    {
     "data": {
      "text/plain": [
       "array([[2.3570226 , 0.94280904],\n",
       "       [1.79505494, 1.79505494]])"
      ]
     },
     "execution_count": 337,
     "metadata": {},
     "output_type": "execute_result"
    }
   ],
   "source": [
    "Vinv = np.linalg.inv(V)\n",
    "Vinv"
   ]
  },
  {
   "cell_type": "code",
   "execution_count": 338,
   "id": "cdf7066c",
   "metadata": {},
   "outputs": [
    {
     "data": {
      "text/plain": [
       "array([[ 2.,  0.],\n",
       "       [ 0., -1.]])"
      ]
     },
     "execution_count": 338,
     "metadata": {},
     "output_type": "execute_result"
    }
   ],
   "source": [
    "Lambda = np.diag(lambdas)\n",
    "Lambda"
   ]
  },
  {
   "cell_type": "raw",
   "id": "c493e266",
   "metadata": {},
   "source": [
    "Confirm that  𝐴=𝑉Λ𝑉^(-1) :"
   ]
  },
  {
   "cell_type": "code",
   "execution_count": 339,
   "id": "9162cba5",
   "metadata": {},
   "outputs": [
    {
     "data": {
      "text/plain": [
       "array([[ 4.,  2.],\n",
       "       [-5., -3.]])"
      ]
     },
     "execution_count": 339,
     "metadata": {},
     "output_type": "execute_result"
    }
   ],
   "source": [
    "np.dot(V, np.dot(Lambda, Vinv))"
   ]
  },
  {
   "cell_type": "markdown",
   "id": "9f710c9f",
   "metadata": {},
   "source": [
    "  Eigendecomposition is not possible with all matrices. And in some cases where it is possible, the eigendecomposition involves complex numbers instead of straightforward real numbers.\n",
    "\n",
    "In machine learning, however, we are typically working with real symmetric matrices, which can be conveniently and efficiently decomposed into real-only eigenvectors and real-only eigenvalues. If 𝐴 is a real symmetric matrix then...\n",
    "\n",
    "𝐴=𝑄Λ𝑄𝑇 \n",
    "\n",
    "...where 𝑄 is analogous to  𝑉  from the previous equation except that it's special because it's an orthogonal matrix."
   ]
  },
  {
   "cell_type": "code",
   "execution_count": 340,
   "id": "05e4cd2d",
   "metadata": {},
   "outputs": [
    {
     "data": {
      "text/plain": [
       "array([[2, 1],\n",
       "       [1, 2]])"
      ]
     },
     "execution_count": 340,
     "metadata": {},
     "output_type": "execute_result"
    }
   ],
   "source": [
    "A = np.array([[2, 1], [1, 2]])\n",
    "A"
   ]
  },
  {
   "cell_type": "code",
   "execution_count": 341,
   "id": "1b2462d9",
   "metadata": {},
   "outputs": [
    {
     "data": {
      "text/plain": [
       "array([3., 1.])"
      ]
     },
     "execution_count": 341,
     "metadata": {},
     "output_type": "execute_result"
    }
   ],
   "source": [
    "lambdas, Q = np.linalg.eig(A)\n",
    "lambdas"
   ]
  },
  {
   "cell_type": "code",
   "execution_count": 342,
   "id": "10bb68df",
   "metadata": {},
   "outputs": [
    {
     "data": {
      "text/plain": [
       "array([[3., 0.],\n",
       "       [0., 1.]])"
      ]
     },
     "execution_count": 342,
     "metadata": {},
     "output_type": "execute_result"
    }
   ],
   "source": [
    "Lambda = np.diag(lambdas)\n",
    "Lambda"
   ]
  },
  {
   "cell_type": "code",
   "execution_count": 343,
   "id": "326ffabe",
   "metadata": {},
   "outputs": [
    {
     "data": {
      "text/plain": [
       "array([[ 0.70710678, -0.70710678],\n",
       "       [ 0.70710678,  0.70710678]])"
      ]
     },
     "execution_count": 343,
     "metadata": {},
     "output_type": "execute_result"
    }
   ],
   "source": [
    "Q"
   ]
  },
  {
   "cell_type": "code",
   "execution_count": 344,
   "id": "7b89c966",
   "metadata": {},
   "outputs": [
    {
     "data": {
      "text/plain": [
       "array([[ 0.70710678,  0.70710678],\n",
       "       [-0.70710678,  0.70710678]])"
      ]
     },
     "execution_count": 344,
     "metadata": {},
     "output_type": "execute_result"
    }
   ],
   "source": [
    "Q.T"
   ]
  },
  {
   "cell_type": "markdown",
   "id": "c20a7ed0",
   "metadata": {},
   "source": [
    "Let's confirm  𝐴=𝑄Λ𝑄𝑇 :"
   ]
  },
  {
   "cell_type": "code",
   "execution_count": 345,
   "id": "ff106d09",
   "metadata": {},
   "outputs": [
    {
     "data": {
      "text/plain": [
       "array([[2., 1.],\n",
       "       [1., 2.]])"
      ]
     },
     "execution_count": 345,
     "metadata": {},
     "output_type": "execute_result"
    }
   ],
   "source": [
    "np.dot(Q, np.dot(Lambda, Q.T))"
   ]
  },
  {
   "cell_type": "markdown",
   "id": "aa28557b",
   "metadata": {},
   "source": [
    "(As a quick aside, we can demostrate that 𝑄 is an orthogonal matrix because  𝑄𝑇𝑄=𝑄𝑄𝑇=𝐼 .)"
   ]
  },
  {
   "cell_type": "code",
   "execution_count": 346,
   "id": "2db79eb7",
   "metadata": {},
   "outputs": [
    {
     "data": {
      "text/plain": [
       "array([[1., 0.],\n",
       "       [0., 1.]])"
      ]
     },
     "execution_count": 346,
     "metadata": {},
     "output_type": "execute_result"
    }
   ],
   "source": [
    "np.dot(Q.T, Q)"
   ]
  },
  {
   "cell_type": "code",
   "execution_count": 347,
   "id": "6aa5612c",
   "metadata": {},
   "outputs": [
    {
     "data": {
      "text/plain": [
       "array([[1., 0.],\n",
       "       [0., 1.]])"
      ]
     },
     "execution_count": 347,
     "metadata": {},
     "output_type": "execute_result"
    }
   ],
   "source": [
    "np.dot(Q, Q.T)"
   ]
  }
 ],
 "metadata": {
  "kernelspec": {
   "display_name": "Python 3 (ipykernel)",
   "language": "python",
   "name": "python3"
  },
  "language_info": {
   "codemirror_mode": {
    "name": "ipython",
    "version": 3
   },
   "file_extension": ".py",
   "mimetype": "text/x-python",
   "name": "python",
   "nbconvert_exporter": "python",
   "pygments_lexer": "ipython3",
   "version": "3.9.13"
  }
 },
 "nbformat": 4,
 "nbformat_minor": 5
}
