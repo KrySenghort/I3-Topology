{
 "cells": [
  {
   "cell_type": "markdown",
   "id": "71ae21cf",
   "metadata": {},
   "source": [
    "## Problem 01"
   ]
  },
  {
   "cell_type": "code",
   "execution_count": 14,
   "id": "290db800",
   "metadata": {},
   "outputs": [],
   "source": [
    "import numpy as np\n",
    "import matplotlib.pyplot as plt"
   ]
  },
  {
   "cell_type": "code",
   "execution_count": 15,
   "id": "29dc3bca",
   "metadata": {},
   "outputs": [
    {
     "data": {
      "text/plain": [
       "30.0"
      ]
     },
     "execution_count": 15,
     "metadata": {},
     "output_type": "execute_result"
    }
   ],
   "source": [
    "def f(v1:int,v2:int):\n",
    "    t = 5*v1/(v1-v2)\n",
    "    return t\n",
    "f(180,150)"
   ]
  },
  {
   "cell_type": "code",
   "execution_count": 18,
   "id": "942ffdf1",
   "metadata": {},
   "outputs": [
    {
     "data": {
      "text/plain": [
       "array([ 0.        ,  0.4040404 ,  0.80808081,  1.21212121,  1.61616162,\n",
       "        2.02020202,  2.42424242,  2.82828283,  3.23232323,  3.63636364,\n",
       "        4.04040404,  4.44444444,  4.84848485,  5.25252525,  5.65656566,\n",
       "        6.06060606,  6.46464646,  6.86868687,  7.27272727,  7.67676768,\n",
       "        8.08080808,  8.48484848,  8.88888889,  9.29292929,  9.6969697 ,\n",
       "       10.1010101 , 10.50505051, 10.90909091, 11.31313131, 11.71717172,\n",
       "       12.12121212, 12.52525253, 12.92929293, 13.33333333, 13.73737374,\n",
       "       14.14141414, 14.54545455, 14.94949495, 15.35353535, 15.75757576,\n",
       "       16.16161616, 16.56565657, 16.96969697, 17.37373737, 17.77777778,\n",
       "       18.18181818, 18.58585859, 18.98989899, 19.39393939, 19.7979798 ,\n",
       "       20.2020202 , 20.60606061, 21.01010101, 21.41414141, 21.81818182,\n",
       "       22.22222222, 22.62626263, 23.03030303, 23.43434343, 23.83838384,\n",
       "       24.24242424, 24.64646465, 25.05050505, 25.45454545, 25.85858586,\n",
       "       26.26262626, 26.66666667, 27.07070707, 27.47474747, 27.87878788,\n",
       "       28.28282828, 28.68686869, 29.09090909, 29.49494949, 29.8989899 ,\n",
       "       30.3030303 , 30.70707071, 31.11111111, 31.51515152, 31.91919192,\n",
       "       32.32323232, 32.72727273, 33.13131313, 33.53535354, 33.93939394,\n",
       "       34.34343434, 34.74747475, 35.15151515, 35.55555556, 35.95959596,\n",
       "       36.36363636, 36.76767677, 37.17171717, 37.57575758, 37.97979798,\n",
       "       38.38383838, 38.78787879, 39.19191919, 39.5959596 , 40.        ])"
      ]
     },
     "execution_count": 18,
     "metadata": {},
     "output_type": "execute_result"
    }
   ],
   "source": [
    "t = np.linspace(0,40,100) # start, finish, n point\n",
    "t"
   ]
  },
  {
   "cell_type": "markdown",
   "id": "fb8e0472",
   "metadata": {},
   "source": [
    "Distance travelled by robber: d = 2-5i"
   ]
  },
  {
   "cell_type": "code",
   "execution_count": 21,
   "id": "c7578709",
   "metadata": {},
   "outputs": [
    {
     "data": {
      "text/plain": [
       "array([  0.        ,   1.01010101,   2.02020202,   3.03030303,\n",
       "         4.04040404,   5.05050505,   6.06060606,   7.07070707,\n",
       "         8.08080808,   9.09090909,  10.1010101 ,  11.11111111,\n",
       "        12.12121212,  13.13131313,  14.14141414,  15.15151515,\n",
       "        16.16161616,  17.17171717,  18.18181818,  19.19191919,\n",
       "        20.2020202 ,  21.21212121,  22.22222222,  23.23232323,\n",
       "        24.24242424,  25.25252525,  26.26262626,  27.27272727,\n",
       "        28.28282828,  29.29292929,  30.3030303 ,  31.31313131,\n",
       "        32.32323232,  33.33333333,  34.34343434,  35.35353535,\n",
       "        36.36363636,  37.37373737,  38.38383838,  39.39393939,\n",
       "        40.4040404 ,  41.41414141,  42.42424242,  43.43434343,\n",
       "        44.44444444,  45.45454545,  46.46464646,  47.47474747,\n",
       "        48.48484848,  49.49494949,  50.50505051,  51.51515152,\n",
       "        52.52525253,  53.53535354,  54.54545455,  55.55555556,\n",
       "        56.56565657,  57.57575758,  58.58585859,  59.5959596 ,\n",
       "        60.60606061,  61.61616162,  62.62626263,  63.63636364,\n",
       "        64.64646465,  65.65656566,  66.66666667,  67.67676768,\n",
       "        68.68686869,  69.6969697 ,  70.70707071,  71.71717172,\n",
       "        72.72727273,  73.73737374,  74.74747475,  75.75757576,\n",
       "        76.76767677,  77.77777778,  78.78787879,  79.7979798 ,\n",
       "        80.80808081,  81.81818182,  82.82828283,  83.83838384,\n",
       "        84.84848485,  85.85858586,  86.86868687,  87.87878788,\n",
       "        88.88888889,  89.8989899 ,  90.90909091,  91.91919192,\n",
       "        92.92929293,  93.93939394,  94.94949495,  95.95959596,\n",
       "        96.96969697,  97.97979798,  98.98989899, 100.        ])"
      ]
     },
     "execution_count": 21,
     "metadata": {},
     "output_type": "execute_result"
    }
   ],
   "source": [
    "d_r = 2.5*t\n",
    "d_r"
   ]
  },
  {
   "cell_type": "markdown",
   "id": "678aa16b",
   "metadata": {},
   "source": [
    "Distance travelled by sheriff: d = 3(t-5)"
   ]
  },
  {
   "cell_type": "code",
   "execution_count": 22,
   "id": "4bcab523",
   "metadata": {},
   "outputs": [
    {
     "data": {
      "text/plain": [
       "array([-15.        , -13.78787879, -12.57575758, -11.36363636,\n",
       "       -10.15151515,  -8.93939394,  -7.72727273,  -6.51515152,\n",
       "        -5.3030303 ,  -4.09090909,  -2.87878788,  -1.66666667,\n",
       "        -0.45454545,   0.75757576,   1.96969697,   3.18181818,\n",
       "         4.39393939,   5.60606061,   6.81818182,   8.03030303,\n",
       "         9.24242424,  10.45454545,  11.66666667,  12.87878788,\n",
       "        14.09090909,  15.3030303 ,  16.51515152,  17.72727273,\n",
       "        18.93939394,  20.15151515,  21.36363636,  22.57575758,\n",
       "        23.78787879,  25.        ,  26.21212121,  27.42424242,\n",
       "        28.63636364,  29.84848485,  31.06060606,  32.27272727,\n",
       "        33.48484848,  34.6969697 ,  35.90909091,  37.12121212,\n",
       "        38.33333333,  39.54545455,  40.75757576,  41.96969697,\n",
       "        43.18181818,  44.39393939,  45.60606061,  46.81818182,\n",
       "        48.03030303,  49.24242424,  50.45454545,  51.66666667,\n",
       "        52.87878788,  54.09090909,  55.3030303 ,  56.51515152,\n",
       "        57.72727273,  58.93939394,  60.15151515,  61.36363636,\n",
       "        62.57575758,  63.78787879,  65.        ,  66.21212121,\n",
       "        67.42424242,  68.63636364,  69.84848485,  71.06060606,\n",
       "        72.27272727,  73.48484848,  74.6969697 ,  75.90909091,\n",
       "        77.12121212,  78.33333333,  79.54545455,  80.75757576,\n",
       "        81.96969697,  83.18181818,  84.39393939,  85.60606061,\n",
       "        86.81818182,  88.03030303,  89.24242424,  90.45454545,\n",
       "        91.66666667,  92.87878788,  94.09090909,  95.3030303 ,\n",
       "        96.51515152,  97.72727273,  98.93939394, 100.15151515,\n",
       "       101.36363636, 102.57575758, 103.78787879, 105.        ])"
      ]
     },
     "execution_count": 22,
     "metadata": {},
     "output_type": "execute_result"
    }
   ],
   "source": [
    "d_m = 3*(t-5)\n",
    "d_m"
   ]
  },
  {
   "cell_type": "code",
   "execution_count": 23,
   "id": "ecf2767b",
   "metadata": {},
   "outputs": [
    {
     "data": {
      "image/png": "[encoded data removed]",
      "text/plain": [
       "<Figure size 432x288 with 1 Axes>"
      ]
     },
     "metadata": {
      "needs_background": "light"
     },
     "output_type": "display_data"
    }
   ],
   "source": [
    "fig, ax = plt.subplots()\n",
    "plt.title(\"A Bank Robber Caught\")\n",
    "plt.show()"
   ]
  },
  {
   "cell_type": "code",
   "execution_count": 1,
   "id": "3877582d",
   "metadata": {},
   "outputs": [],
   "source": [
    "import numpy as np"
   ]
  },
  {
   "cell_type": "code",
   "execution_count": 2,
   "id": "c7aeac51",
   "metadata": {},
   "outputs": [
    {
     "data": {
      "text/plain": [
       "array([[1, 2, 3],\n",
       "       [4, 5, 6],\n",
       "       [7, 8, 9]])"
      ]
     },
     "execution_count": 2,
     "metadata": {},
     "output_type": "execute_result"
    }
   ],
   "source": [
    "arr2d = np.array([[1,2,3],[4,5,6],[7,8,9]])\n",
    "arr2d"
   ]
  },
  {
   "cell_type": "code",
   "execution_count": 12,
   "id": "bda015a4",
   "metadata": {},
   "outputs": [
    {
     "data": {
      "text/plain": [
       "array([3, 6, 9])"
      ]
     },
     "execution_count": 12,
     "metadata": {},
     "output_type": "execute_result"
    }
   ],
   "source": [
    "B = arr2d[:,2]\n",
    "B"
   ]
  },
  {
   "cell_type": "code",
   "execution_count": 10,
   "id": "64d52fa9",
   "metadata": {},
   "outputs": [
    {
     "data": {
      "text/plain": [
       "array([4, 5, 6])"
      ]
     },
     "execution_count": 10,
     "metadata": {},
     "output_type": "execute_result"
    }
   ],
   "source": [
    "C = arr2d[1,:]\n",
    "C"
   ]
  },
  {
   "cell_type": "code",
   "execution_count": null,
   "id": "2c0b92ee",
   "metadata": {},
   "outputs": [],
   "source": []
  }
 ],
 "metadata": {
  "kernelspec": {
   "display_name": "Python 3",
   "language": "python",
   "name": "python3"
  },
  "language_info": {
   "codemirror_mode": {
    "name": "ipython",
    "version": 3
   },
   "file_extension": ".py",
   "mimetype": "text/x-python",
   "name": "python",
   "nbconvert_exporter": "python",
   "pygments_lexer": "ipython3",
   "version": "3.9.7"
  },
  "vscode": {
   "interpreter": {
    "hash": "c2c6c802744550c4999ab05f348c6cbdea7d30b4eb26f6322e634f81da96d8ed"
   }
  }
 },
 "nbformat": 4,
 "nbformat_minor": 5
}
